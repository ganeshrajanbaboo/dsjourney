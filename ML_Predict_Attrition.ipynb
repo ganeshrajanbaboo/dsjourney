{
  "nbformat": 4,
  "nbformat_minor": 0,
  "metadata": {
    "colab": {
      "name": "ML_Predict_Attrition.ipynb",
      "provenance": [],
      "collapsed_sections": [
        "ZARGPspSo3RK"
      ],
      "toc_visible": true
    },
    "kernelspec": {
      "name": "python3",
      "display_name": "Python 3"
    }
  },
  "cells": [
    {
      "cell_type": "markdown",
      "metadata": {
        "id": "KtC8ETVyf-c1",
        "colab_type": "text"
      },
      "source": [
        "#Study Attrition based on input features"
      ]
    },
    {
      "cell_type": "markdown",
      "metadata": {
        "id": "btLgLyeNgOuH",
        "colab_type": "text"
      },
      "source": [
        "**Read Dataset**"
      ]
    },
    {
      "cell_type": "code",
      "metadata": {
        "id": "axGu1JE9YPHK",
        "colab_type": "code",
        "colab": {}
      },
      "source": [
        "import pandas as pd\n",
        "df = pd.read_excel('ML_Study_Data_v1.0.xlsx')\n",
        "df_test = pd.read_excel('ML_Test_Data_v1.0.xlsx')"
      ],
      "execution_count": 0,
      "outputs": []
    },
    {
      "cell_type": "markdown",
      "metadata": {
        "id": "hU0WXCczgmIq",
        "colab_type": "text"
      },
      "source": [
        "**Examine the data**"
      ]
    },
    {
      "cell_type": "code",
      "metadata": {
        "id": "ABZl-kS5Z3wd",
        "colab_type": "code",
        "outputId": "1db524b1-5ca0-40c5-b7dc-9f0c3070cf23",
        "colab": {
          "base_uri": "https://localhost:8080/",
          "height": 306
        }
      },
      "source": [
        "df.head()"
      ],
      "execution_count": 0,
      "outputs": [
        {
          "output_type": "execute_result",
          "data": {
            "text/html": [
              "<div>\n",
              "<style scoped>\n",
              "    .dataframe tbody tr th:only-of-type {\n",
              "        vertical-align: middle;\n",
              "    }\n",
              "\n",
              "    .dataframe tbody tr th {\n",
              "        vertical-align: top;\n",
              "    }\n",
              "\n",
              "    .dataframe thead th {\n",
              "        text-align: right;\n",
              "    }\n",
              "</style>\n",
              "<table border=\"1\" class=\"dataframe\">\n",
              "  <thead>\n",
              "    <tr style=\"text-align: right;\">\n",
              "      <th></th>\n",
              "      <th>ID</th>\n",
              "      <th>Result</th>\n",
              "      <th>DXC_Level</th>\n",
              "      <th>Time_In_Profile</th>\n",
              "      <th>Legacy_Level</th>\n",
              "      <th>Compa-Ratio</th>\n",
              "      <th>LPI_Date</th>\n",
              "      <th>Location</th>\n",
              "      <th>S_Date</th>\n",
              "      <th>LOS_Years \\n(Today() - S_Date)</th>\n",
              "      <th>C_R</th>\n",
              "      <th>P_R</th>\n",
              "    </tr>\n",
              "  </thead>\n",
              "  <tbody>\n",
              "    <tr>\n",
              "      <th>0</th>\n",
              "      <td>1000</td>\n",
              "      <td>No</td>\n",
              "      <td>4</td>\n",
              "      <td>2 year(s), 0 month(s), 27 day(s)</td>\n",
              "      <td>16 Specialist</td>\n",
              "      <td>0.709</td>\n",
              "      <td>2018-01-01</td>\n",
              "      <td>IOC01 - Olympia Technology Park</td>\n",
              "      <td>2009-12-07</td>\n",
              "      <td>9.810959</td>\n",
              "      <td>2.0</td>\n",
              "      <td>2.0</td>\n",
              "    </tr>\n",
              "    <tr>\n",
              "      <th>1</th>\n",
              "      <td>1001</td>\n",
              "      <td>Attriion</td>\n",
              "      <td>3</td>\n",
              "      <td>1 year(s), 6 month(s), 6 day(s)</td>\n",
              "      <td>18 Entry</td>\n",
              "      <td>0.921</td>\n",
              "      <td>2017-02-22</td>\n",
              "      <td>IOC01 - Olympia Technology Park</td>\n",
              "      <td>2017-02-22</td>\n",
              "      <td>2.594521</td>\n",
              "      <td>2.0</td>\n",
              "      <td>NaN</td>\n",
              "    </tr>\n",
              "    <tr>\n",
              "      <th>2</th>\n",
              "      <td>1002</td>\n",
              "      <td>No</td>\n",
              "      <td>3</td>\n",
              "      <td>1 year(s), 9 month(s), 27 day(s)</td>\n",
              "      <td>18 Entry</td>\n",
              "      <td>0.821</td>\n",
              "      <td>2018-01-01</td>\n",
              "      <td>IOC01 - Olympia Technology Park</td>\n",
              "      <td>2016-08-22</td>\n",
              "      <td>3.098630</td>\n",
              "      <td>3.0</td>\n",
              "      <td>NaN</td>\n",
              "    </tr>\n",
              "    <tr>\n",
              "      <th>3</th>\n",
              "      <td>1003</td>\n",
              "      <td>No</td>\n",
              "      <td>4</td>\n",
              "      <td>3 year(s), 0 month(s), 2 day(s)</td>\n",
              "      <td>17 Intermediate</td>\n",
              "      <td>0.751</td>\n",
              "      <td>2018-01-01</td>\n",
              "      <td>IOC01 - Olympia Technology Park</td>\n",
              "      <td>2015-08-26</td>\n",
              "      <td>4.090411</td>\n",
              "      <td>3.0</td>\n",
              "      <td>2.0</td>\n",
              "    </tr>\n",
              "    <tr>\n",
              "      <th>4</th>\n",
              "      <td>1004</td>\n",
              "      <td>Attriion</td>\n",
              "      <td>4</td>\n",
              "      <td>4 year(s), 9 month(s), 27 day(s)</td>\n",
              "      <td>17 Intermediate</td>\n",
              "      <td>0.971</td>\n",
              "      <td>2016-02-01</td>\n",
              "      <td>IOC01 - Olympia Technology Park</td>\n",
              "      <td>2010-06-09</td>\n",
              "      <td>9.306849</td>\n",
              "      <td>3.0</td>\n",
              "      <td>2.0</td>\n",
              "    </tr>\n",
              "  </tbody>\n",
              "</table>\n",
              "</div>"
            ],
            "text/plain": [
              "     ID    Result  DXC_Level  ... LOS_Years \\n(Today() - S_Date)  C_R  P_R\n",
              "0  1000        No          4  ...                       9.810959  2.0  2.0\n",
              "1  1001  Attriion          3  ...                       2.594521  2.0  NaN\n",
              "2  1002        No          3  ...                       3.098630  3.0  NaN\n",
              "3  1003        No          4  ...                       4.090411  3.0  2.0\n",
              "4  1004  Attriion          4  ...                       9.306849  3.0  2.0\n",
              "\n",
              "[5 rows x 12 columns]"
            ]
          },
          "metadata": {
            "tags": []
          },
          "execution_count": 896
        }
      ]
    },
    {
      "cell_type": "code",
      "metadata": {
        "id": "5N4tCWDmhY2g",
        "colab_type": "code",
        "outputId": "a53e265a-e1f4-455e-a757-962141563c70",
        "colab": {
          "base_uri": "https://localhost:8080/",
          "height": 34
        }
      },
      "source": [
        "df['Result'].replace({'Attriion':1, 'No':0}, inplace=True)\n",
        "df['Result'].shape"
      ],
      "execution_count": 0,
      "outputs": [
        {
          "output_type": "execute_result",
          "data": {
            "text/plain": [
              "(266,)"
            ]
          },
          "metadata": {
            "tags": []
          },
          "execution_count": 897
        }
      ]
    },
    {
      "cell_type": "markdown",
      "metadata": {
        "id": "w5K0IFiDngoB",
        "colab_type": "text"
      },
      "source": [
        "**Copy the *Result* column into a new series. This would be come the labels of the models later**\n",
        "\n",
        "**Drop the *Result* and the *Location* columns**"
      ]
    },
    {
      "cell_type": "code",
      "metadata": {
        "id": "vgdGJB4ej5XI",
        "colab_type": "code",
        "colab": {}
      },
      "source": [
        "result = df['Result'].copy()\n",
        "df.drop(['Location', 'Result'], inplace=True, axis=1)\n",
        "df_test.drop(['Location'], inplace=True, axis=1)"
      ],
      "execution_count": 0,
      "outputs": []
    },
    {
      "cell_type": "markdown",
      "metadata": {
        "id": "-Na11NRYgRGw",
        "colab_type": "text"
      },
      "source": [
        "**Drop the ID column**"
      ]
    },
    {
      "cell_type": "code",
      "metadata": {
        "id": "cwsHAGlYZDHS",
        "colab_type": "code",
        "colab": {}
      },
      "source": [
        "df_ID = df['ID']\n",
        "df_test_ID = df_test['ID']\n",
        "df.drop('ID', axis=1, inplace=True)\n",
        "df_test.drop('ID', axis=1, inplace=True)"
      ],
      "execution_count": 0,
      "outputs": []
    },
    {
      "cell_type": "code",
      "metadata": {
        "id": "YzbGpllqURGg",
        "colab_type": "code",
        "outputId": "eb544ebe-1ec4-411d-e89d-b263611c3d08",
        "colab": {
          "base_uri": "https://localhost:8080/",
          "height": 204
        }
      },
      "source": [
        "df.head()"
      ],
      "execution_count": 0,
      "outputs": [
        {
          "output_type": "execute_result",
          "data": {
            "text/html": [
              "<div>\n",
              "<style scoped>\n",
              "    .dataframe tbody tr th:only-of-type {\n",
              "        vertical-align: middle;\n",
              "    }\n",
              "\n",
              "    .dataframe tbody tr th {\n",
              "        vertical-align: top;\n",
              "    }\n",
              "\n",
              "    .dataframe thead th {\n",
              "        text-align: right;\n",
              "    }\n",
              "</style>\n",
              "<table border=\"1\" class=\"dataframe\">\n",
              "  <thead>\n",
              "    <tr style=\"text-align: right;\">\n",
              "      <th></th>\n",
              "      <th>DXC_Level</th>\n",
              "      <th>Time_In_Profile</th>\n",
              "      <th>Legacy_Level</th>\n",
              "      <th>Compa-Ratio</th>\n",
              "      <th>LPI_Date</th>\n",
              "      <th>S_Date</th>\n",
              "      <th>LOS_Years \\n(Today() - S_Date)</th>\n",
              "      <th>C_R</th>\n",
              "      <th>P_R</th>\n",
              "    </tr>\n",
              "  </thead>\n",
              "  <tbody>\n",
              "    <tr>\n",
              "      <th>0</th>\n",
              "      <td>4</td>\n",
              "      <td>2 year(s), 0 month(s), 27 day(s)</td>\n",
              "      <td>16 Specialist</td>\n",
              "      <td>0.709</td>\n",
              "      <td>2018-01-01</td>\n",
              "      <td>2009-12-07</td>\n",
              "      <td>9.810959</td>\n",
              "      <td>2.0</td>\n",
              "      <td>2.0</td>\n",
              "    </tr>\n",
              "    <tr>\n",
              "      <th>1</th>\n",
              "      <td>3</td>\n",
              "      <td>1 year(s), 6 month(s), 6 day(s)</td>\n",
              "      <td>18 Entry</td>\n",
              "      <td>0.921</td>\n",
              "      <td>2017-02-22</td>\n",
              "      <td>2017-02-22</td>\n",
              "      <td>2.594521</td>\n",
              "      <td>2.0</td>\n",
              "      <td>NaN</td>\n",
              "    </tr>\n",
              "    <tr>\n",
              "      <th>2</th>\n",
              "      <td>3</td>\n",
              "      <td>1 year(s), 9 month(s), 27 day(s)</td>\n",
              "      <td>18 Entry</td>\n",
              "      <td>0.821</td>\n",
              "      <td>2018-01-01</td>\n",
              "      <td>2016-08-22</td>\n",
              "      <td>3.098630</td>\n",
              "      <td>3.0</td>\n",
              "      <td>NaN</td>\n",
              "    </tr>\n",
              "    <tr>\n",
              "      <th>3</th>\n",
              "      <td>4</td>\n",
              "      <td>3 year(s), 0 month(s), 2 day(s)</td>\n",
              "      <td>17 Intermediate</td>\n",
              "      <td>0.751</td>\n",
              "      <td>2018-01-01</td>\n",
              "      <td>2015-08-26</td>\n",
              "      <td>4.090411</td>\n",
              "      <td>3.0</td>\n",
              "      <td>2.0</td>\n",
              "    </tr>\n",
              "    <tr>\n",
              "      <th>4</th>\n",
              "      <td>4</td>\n",
              "      <td>4 year(s), 9 month(s), 27 day(s)</td>\n",
              "      <td>17 Intermediate</td>\n",
              "      <td>0.971</td>\n",
              "      <td>2016-02-01</td>\n",
              "      <td>2010-06-09</td>\n",
              "      <td>9.306849</td>\n",
              "      <td>3.0</td>\n",
              "      <td>2.0</td>\n",
              "    </tr>\n",
              "  </tbody>\n",
              "</table>\n",
              "</div>"
            ],
            "text/plain": [
              "   DXC_Level                   Time_In_Profile  ...  C_R  P_R\n",
              "0          4  2 year(s), 0 month(s), 27 day(s)  ...  2.0  2.0\n",
              "1          3   1 year(s), 6 month(s), 6 day(s)  ...  2.0  NaN\n",
              "2          3  1 year(s), 9 month(s), 27 day(s)  ...  3.0  NaN\n",
              "3          4   3 year(s), 0 month(s), 2 day(s)  ...  3.0  2.0\n",
              "4          4  4 year(s), 9 month(s), 27 day(s)  ...  3.0  2.0\n",
              "\n",
              "[5 rows x 9 columns]"
            ]
          },
          "metadata": {
            "tags": []
          },
          "execution_count": 900
        }
      ]
    },
    {
      "cell_type": "code",
      "metadata": {
        "id": "CUe0zZT-Q7-o",
        "colab_type": "code",
        "outputId": "5d17fc21-6c15-4ced-a3cd-31af1b196971",
        "colab": {
          "base_uri": "https://localhost:8080/",
          "height": 204
        }
      },
      "source": [
        "df_test.head()"
      ],
      "execution_count": 0,
      "outputs": [
        {
          "output_type": "execute_result",
          "data": {
            "text/html": [
              "<div>\n",
              "<style scoped>\n",
              "    .dataframe tbody tr th:only-of-type {\n",
              "        vertical-align: middle;\n",
              "    }\n",
              "\n",
              "    .dataframe tbody tr th {\n",
              "        vertical-align: top;\n",
              "    }\n",
              "\n",
              "    .dataframe thead th {\n",
              "        text-align: right;\n",
              "    }\n",
              "</style>\n",
              "<table border=\"1\" class=\"dataframe\">\n",
              "  <thead>\n",
              "    <tr style=\"text-align: right;\">\n",
              "      <th></th>\n",
              "      <th>DXC_Level</th>\n",
              "      <th>Time_In_Profile</th>\n",
              "      <th>Legacy_Level</th>\n",
              "      <th>Compa-Ratio</th>\n",
              "      <th>LPI_Date</th>\n",
              "      <th>S_Date</th>\n",
              "      <th>LOS_Years \\n(Today() - S_Date)</th>\n",
              "      <th>C_R</th>\n",
              "      <th>P_R</th>\n",
              "    </tr>\n",
              "  </thead>\n",
              "  <tbody>\n",
              "    <tr>\n",
              "      <th>0</th>\n",
              "      <td>4</td>\n",
              "      <td>2 year(s), 0 month(s), 27 day(s)</td>\n",
              "      <td>16 Specialist</td>\n",
              "      <td>0.709</td>\n",
              "      <td>2018-01-01</td>\n",
              "      <td>2009-12-07</td>\n",
              "      <td>9.810959</td>\n",
              "      <td>2.0</td>\n",
              "      <td>2.0</td>\n",
              "    </tr>\n",
              "    <tr>\n",
              "      <th>1</th>\n",
              "      <td>3</td>\n",
              "      <td>1 year(s), 6 month(s), 6 day(s)</td>\n",
              "      <td>18 Entry</td>\n",
              "      <td>0.921</td>\n",
              "      <td>2017-02-22</td>\n",
              "      <td>2017-02-22</td>\n",
              "      <td>2.594521</td>\n",
              "      <td>2.0</td>\n",
              "      <td>NaN</td>\n",
              "    </tr>\n",
              "    <tr>\n",
              "      <th>2</th>\n",
              "      <td>3</td>\n",
              "      <td>1 year(s), 9 month(s), 27 day(s)</td>\n",
              "      <td>18 Entry</td>\n",
              "      <td>0.821</td>\n",
              "      <td>2018-01-01</td>\n",
              "      <td>2016-08-22</td>\n",
              "      <td>3.098630</td>\n",
              "      <td>3.0</td>\n",
              "      <td>NaN</td>\n",
              "    </tr>\n",
              "    <tr>\n",
              "      <th>3</th>\n",
              "      <td>4</td>\n",
              "      <td>3 year(s), 0 month(s), 2 day(s)</td>\n",
              "      <td>17 Intermediate</td>\n",
              "      <td>0.751</td>\n",
              "      <td>2018-01-01</td>\n",
              "      <td>2015-08-26</td>\n",
              "      <td>4.090411</td>\n",
              "      <td>3.0</td>\n",
              "      <td>2.0</td>\n",
              "    </tr>\n",
              "    <tr>\n",
              "      <th>4</th>\n",
              "      <td>4</td>\n",
              "      <td>4 year(s), 9 month(s), 27 day(s)</td>\n",
              "      <td>17 Intermediate</td>\n",
              "      <td>0.971</td>\n",
              "      <td>2016-02-01</td>\n",
              "      <td>2010-06-09</td>\n",
              "      <td>9.306849</td>\n",
              "      <td>3.0</td>\n",
              "      <td>2.0</td>\n",
              "    </tr>\n",
              "  </tbody>\n",
              "</table>\n",
              "</div>"
            ],
            "text/plain": [
              "   DXC_Level                   Time_In_Profile  ...  C_R  P_R\n",
              "0          4  2 year(s), 0 month(s), 27 day(s)  ...  2.0  2.0\n",
              "1          3   1 year(s), 6 month(s), 6 day(s)  ...  2.0  NaN\n",
              "2          3  1 year(s), 9 month(s), 27 day(s)  ...  3.0  NaN\n",
              "3          4   3 year(s), 0 month(s), 2 day(s)  ...  3.0  2.0\n",
              "4          4  4 year(s), 9 month(s), 27 day(s)  ...  3.0  2.0\n",
              "\n",
              "[5 rows x 9 columns]"
            ]
          },
          "metadata": {
            "tags": []
          },
          "execution_count": 901
        }
      ]
    },
    {
      "cell_type": "markdown",
      "metadata": {
        "id": "W9oBPtV-g1W6",
        "colab_type": "text"
      },
      "source": [
        "**It looks like S_Date and LOS_Years are same data expressed differently.** \n",
        "**Let's remove S_Date as LOS_Years seems better usable**"
      ]
    },
    {
      "cell_type": "code",
      "metadata": {
        "id": "zwxs09mNamkv",
        "colab_type": "code",
        "colab": {}
      },
      "source": [
        "df.drop('S_Date', axis=1, inplace=True)\n",
        "df_test.drop('S_Date', axis=1, inplace=True)"
      ],
      "execution_count": 0,
      "outputs": []
    },
    {
      "cell_type": "code",
      "metadata": {
        "id": "y7lZjCprWIcx",
        "colab_type": "code",
        "outputId": "20047529-7a75-4551-ff8d-004769230632",
        "colab": {
          "base_uri": "https://localhost:8080/",
          "height": 204
        }
      },
      "source": [
        "df.head()"
      ],
      "execution_count": 0,
      "outputs": [
        {
          "output_type": "execute_result",
          "data": {
            "text/html": [
              "<div>\n",
              "<style scoped>\n",
              "    .dataframe tbody tr th:only-of-type {\n",
              "        vertical-align: middle;\n",
              "    }\n",
              "\n",
              "    .dataframe tbody tr th {\n",
              "        vertical-align: top;\n",
              "    }\n",
              "\n",
              "    .dataframe thead th {\n",
              "        text-align: right;\n",
              "    }\n",
              "</style>\n",
              "<table border=\"1\" class=\"dataframe\">\n",
              "  <thead>\n",
              "    <tr style=\"text-align: right;\">\n",
              "      <th></th>\n",
              "      <th>DXC_Level</th>\n",
              "      <th>Time_In_Profile</th>\n",
              "      <th>Legacy_Level</th>\n",
              "      <th>Compa-Ratio</th>\n",
              "      <th>LPI_Date</th>\n",
              "      <th>LOS_Years \\n(Today() - S_Date)</th>\n",
              "      <th>C_R</th>\n",
              "      <th>P_R</th>\n",
              "    </tr>\n",
              "  </thead>\n",
              "  <tbody>\n",
              "    <tr>\n",
              "      <th>0</th>\n",
              "      <td>4</td>\n",
              "      <td>2 year(s), 0 month(s), 27 day(s)</td>\n",
              "      <td>16 Specialist</td>\n",
              "      <td>0.709</td>\n",
              "      <td>2018-01-01</td>\n",
              "      <td>9.810959</td>\n",
              "      <td>2.0</td>\n",
              "      <td>2.0</td>\n",
              "    </tr>\n",
              "    <tr>\n",
              "      <th>1</th>\n",
              "      <td>3</td>\n",
              "      <td>1 year(s), 6 month(s), 6 day(s)</td>\n",
              "      <td>18 Entry</td>\n",
              "      <td>0.921</td>\n",
              "      <td>2017-02-22</td>\n",
              "      <td>2.594521</td>\n",
              "      <td>2.0</td>\n",
              "      <td>NaN</td>\n",
              "    </tr>\n",
              "    <tr>\n",
              "      <th>2</th>\n",
              "      <td>3</td>\n",
              "      <td>1 year(s), 9 month(s), 27 day(s)</td>\n",
              "      <td>18 Entry</td>\n",
              "      <td>0.821</td>\n",
              "      <td>2018-01-01</td>\n",
              "      <td>3.098630</td>\n",
              "      <td>3.0</td>\n",
              "      <td>NaN</td>\n",
              "    </tr>\n",
              "    <tr>\n",
              "      <th>3</th>\n",
              "      <td>4</td>\n",
              "      <td>3 year(s), 0 month(s), 2 day(s)</td>\n",
              "      <td>17 Intermediate</td>\n",
              "      <td>0.751</td>\n",
              "      <td>2018-01-01</td>\n",
              "      <td>4.090411</td>\n",
              "      <td>3.0</td>\n",
              "      <td>2.0</td>\n",
              "    </tr>\n",
              "    <tr>\n",
              "      <th>4</th>\n",
              "      <td>4</td>\n",
              "      <td>4 year(s), 9 month(s), 27 day(s)</td>\n",
              "      <td>17 Intermediate</td>\n",
              "      <td>0.971</td>\n",
              "      <td>2016-02-01</td>\n",
              "      <td>9.306849</td>\n",
              "      <td>3.0</td>\n",
              "      <td>2.0</td>\n",
              "    </tr>\n",
              "  </tbody>\n",
              "</table>\n",
              "</div>"
            ],
            "text/plain": [
              "   DXC_Level                   Time_In_Profile  ...  C_R  P_R\n",
              "0          4  2 year(s), 0 month(s), 27 day(s)  ...  2.0  2.0\n",
              "1          3   1 year(s), 6 month(s), 6 day(s)  ...  2.0  NaN\n",
              "2          3  1 year(s), 9 month(s), 27 day(s)  ...  3.0  NaN\n",
              "3          4   3 year(s), 0 month(s), 2 day(s)  ...  3.0  2.0\n",
              "4          4  4 year(s), 9 month(s), 27 day(s)  ...  3.0  2.0\n",
              "\n",
              "[5 rows x 8 columns]"
            ]
          },
          "metadata": {
            "tags": []
          },
          "execution_count": 903
        }
      ]
    },
    {
      "cell_type": "code",
      "metadata": {
        "id": "vnjO1Vi5WK5s",
        "colab_type": "code",
        "outputId": "53011a0a-7a2d-4d84-9299-45fe9e2099c5",
        "colab": {
          "base_uri": "https://localhost:8080/",
          "height": 204
        }
      },
      "source": [
        "df_test.head()"
      ],
      "execution_count": 0,
      "outputs": [
        {
          "output_type": "execute_result",
          "data": {
            "text/html": [
              "<div>\n",
              "<style scoped>\n",
              "    .dataframe tbody tr th:only-of-type {\n",
              "        vertical-align: middle;\n",
              "    }\n",
              "\n",
              "    .dataframe tbody tr th {\n",
              "        vertical-align: top;\n",
              "    }\n",
              "\n",
              "    .dataframe thead th {\n",
              "        text-align: right;\n",
              "    }\n",
              "</style>\n",
              "<table border=\"1\" class=\"dataframe\">\n",
              "  <thead>\n",
              "    <tr style=\"text-align: right;\">\n",
              "      <th></th>\n",
              "      <th>DXC_Level</th>\n",
              "      <th>Time_In_Profile</th>\n",
              "      <th>Legacy_Level</th>\n",
              "      <th>Compa-Ratio</th>\n",
              "      <th>LPI_Date</th>\n",
              "      <th>LOS_Years \\n(Today() - S_Date)</th>\n",
              "      <th>C_R</th>\n",
              "      <th>P_R</th>\n",
              "    </tr>\n",
              "  </thead>\n",
              "  <tbody>\n",
              "    <tr>\n",
              "      <th>0</th>\n",
              "      <td>4</td>\n",
              "      <td>2 year(s), 0 month(s), 27 day(s)</td>\n",
              "      <td>16 Specialist</td>\n",
              "      <td>0.709</td>\n",
              "      <td>2018-01-01</td>\n",
              "      <td>9.810959</td>\n",
              "      <td>2.0</td>\n",
              "      <td>2.0</td>\n",
              "    </tr>\n",
              "    <tr>\n",
              "      <th>1</th>\n",
              "      <td>3</td>\n",
              "      <td>1 year(s), 6 month(s), 6 day(s)</td>\n",
              "      <td>18 Entry</td>\n",
              "      <td>0.921</td>\n",
              "      <td>2017-02-22</td>\n",
              "      <td>2.594521</td>\n",
              "      <td>2.0</td>\n",
              "      <td>NaN</td>\n",
              "    </tr>\n",
              "    <tr>\n",
              "      <th>2</th>\n",
              "      <td>3</td>\n",
              "      <td>1 year(s), 9 month(s), 27 day(s)</td>\n",
              "      <td>18 Entry</td>\n",
              "      <td>0.821</td>\n",
              "      <td>2018-01-01</td>\n",
              "      <td>3.098630</td>\n",
              "      <td>3.0</td>\n",
              "      <td>NaN</td>\n",
              "    </tr>\n",
              "    <tr>\n",
              "      <th>3</th>\n",
              "      <td>4</td>\n",
              "      <td>3 year(s), 0 month(s), 2 day(s)</td>\n",
              "      <td>17 Intermediate</td>\n",
              "      <td>0.751</td>\n",
              "      <td>2018-01-01</td>\n",
              "      <td>4.090411</td>\n",
              "      <td>3.0</td>\n",
              "      <td>2.0</td>\n",
              "    </tr>\n",
              "    <tr>\n",
              "      <th>4</th>\n",
              "      <td>4</td>\n",
              "      <td>4 year(s), 9 month(s), 27 day(s)</td>\n",
              "      <td>17 Intermediate</td>\n",
              "      <td>0.971</td>\n",
              "      <td>2016-02-01</td>\n",
              "      <td>9.306849</td>\n",
              "      <td>3.0</td>\n",
              "      <td>2.0</td>\n",
              "    </tr>\n",
              "  </tbody>\n",
              "</table>\n",
              "</div>"
            ],
            "text/plain": [
              "   DXC_Level                   Time_In_Profile  ...  C_R  P_R\n",
              "0          4  2 year(s), 0 month(s), 27 day(s)  ...  2.0  2.0\n",
              "1          3   1 year(s), 6 month(s), 6 day(s)  ...  2.0  NaN\n",
              "2          3  1 year(s), 9 month(s), 27 day(s)  ...  3.0  NaN\n",
              "3          4   3 year(s), 0 month(s), 2 day(s)  ...  3.0  2.0\n",
              "4          4  4 year(s), 9 month(s), 27 day(s)  ...  3.0  2.0\n",
              "\n",
              "[5 rows x 8 columns]"
            ]
          },
          "metadata": {
            "tags": []
          },
          "execution_count": 904
        }
      ]
    },
    {
      "cell_type": "markdown",
      "metadata": {
        "id": "46r7e1QXiGcJ",
        "colab_type": "text"
      },
      "source": [
        "**Let's now strip the LOS_Years column name off some junk**"
      ]
    },
    {
      "cell_type": "code",
      "metadata": {
        "id": "sGsesmqUcJu0",
        "colab_type": "code",
        "colab": {}
      },
      "source": [
        "df.rename({'LOS_Years \\n(Today() - S_Date)':'LOS_Years'}, axis=1, inplace=True)\n",
        "df_test.rename({'LOS_Years \\n(Today() - S_Date)':'LOS_Years'}, axis=1, inplace=True)"
      ],
      "execution_count": 0,
      "outputs": []
    },
    {
      "cell_type": "markdown",
      "metadata": {
        "id": "1_KvZo1diSOY",
        "colab_type": "text"
      },
      "source": [
        "**Check the Data Types of each column**"
      ]
    },
    {
      "cell_type": "code",
      "metadata": {
        "id": "o38K6C1scUh_",
        "colab_type": "code",
        "outputId": "f49dc73b-0c15-45c5-8727-b5b3cdc3cd15",
        "colab": {
          "base_uri": "https://localhost:8080/",
          "height": 170
        }
      },
      "source": [
        "df.dtypes"
      ],
      "execution_count": 0,
      "outputs": [
        {
          "output_type": "execute_result",
          "data": {
            "text/plain": [
              "DXC_Level                   int64\n",
              "Time_In_Profile            object\n",
              "Legacy_Level               object\n",
              "Compa-Ratio               float64\n",
              "LPI_Date           datetime64[ns]\n",
              "LOS_Years                 float64\n",
              "C_R                       float64\n",
              "P_R                       float64\n",
              "dtype: object"
            ]
          },
          "metadata": {
            "tags": []
          },
          "execution_count": 906
        }
      ]
    },
    {
      "cell_type": "markdown",
      "metadata": {
        "colab_type": "text",
        "id": "iGB3lwTRjf3R"
      },
      "source": [
        "**Check if there are null values in Data** - They are there in the *C_R* and the *P_R* columns.\n",
        "I don't like null values :("
      ]
    },
    {
      "cell_type": "code",
      "metadata": {
        "id": "hHLRgwcQZadR",
        "colab_type": "code",
        "outputId": "1b757a49-cdd0-4082-f717-ff61a5cffcd6",
        "colab": {
          "base_uri": "https://localhost:8080/",
          "height": 170
        }
      },
      "source": [
        "df.isna().sum()"
      ],
      "execution_count": 0,
      "outputs": [
        {
          "output_type": "execute_result",
          "data": {
            "text/plain": [
              "DXC_Level           0\n",
              "Time_In_Profile     0\n",
              "Legacy_Level        0\n",
              "Compa-Ratio         0\n",
              "LPI_Date            0\n",
              "LOS_Years           0\n",
              "C_R                10\n",
              "P_R                57\n",
              "dtype: int64"
            ]
          },
          "metadata": {
            "tags": []
          },
          "execution_count": 907
        }
      ]
    },
    {
      "cell_type": "markdown",
      "metadata": {
        "colab_type": "text",
        "id": "knDxzgoglMd-"
      },
      "source": [
        "The *Result* column takes values *Attriion* (*should be Attrition fat fingered*) and *No*. Let's give them labels *1* and *0* respectively "
      ]
    },
    {
      "cell_type": "code",
      "metadata": {
        "id": "gYYaHqq5fj-8",
        "colab_type": "code",
        "outputId": "c52771b5-8d6e-4d80-d888-bc1dc98b9761",
        "colab": {
          "base_uri": "https://localhost:8080/",
          "height": 80
        }
      },
      "source": [
        "df.sample()"
      ],
      "execution_count": 0,
      "outputs": [
        {
          "output_type": "execute_result",
          "data": {
            "text/html": [
              "<div>\n",
              "<style scoped>\n",
              "    .dataframe tbody tr th:only-of-type {\n",
              "        vertical-align: middle;\n",
              "    }\n",
              "\n",
              "    .dataframe tbody tr th {\n",
              "        vertical-align: top;\n",
              "    }\n",
              "\n",
              "    .dataframe thead th {\n",
              "        text-align: right;\n",
              "    }\n",
              "</style>\n",
              "<table border=\"1\" class=\"dataframe\">\n",
              "  <thead>\n",
              "    <tr style=\"text-align: right;\">\n",
              "      <th></th>\n",
              "      <th>DXC_Level</th>\n",
              "      <th>Time_In_Profile</th>\n",
              "      <th>Legacy_Level</th>\n",
              "      <th>Compa-Ratio</th>\n",
              "      <th>LPI_Date</th>\n",
              "      <th>LOS_Years</th>\n",
              "      <th>C_R</th>\n",
              "      <th>P_R</th>\n",
              "    </tr>\n",
              "  </thead>\n",
              "  <tbody>\n",
              "    <tr>\n",
              "      <th>162</th>\n",
              "      <td>4</td>\n",
              "      <td>3 year(s), 1 month(s), 27 day(s)</td>\n",
              "      <td>17 Intermediate</td>\n",
              "      <td>0.851</td>\n",
              "      <td>2018-01-01</td>\n",
              "      <td>9.345205</td>\n",
              "      <td>2.0</td>\n",
              "      <td>2.0</td>\n",
              "    </tr>\n",
              "  </tbody>\n",
              "</table>\n",
              "</div>"
            ],
            "text/plain": [
              "     DXC_Level                   Time_In_Profile  ...  C_R  P_R\n",
              "162          4  3 year(s), 1 month(s), 27 day(s)  ...  2.0  2.0\n",
              "\n",
              "[1 rows x 8 columns]"
            ]
          },
          "metadata": {
            "tags": []
          },
          "execution_count": 908
        }
      ]
    },
    {
      "cell_type": "code",
      "metadata": {
        "id": "D746Op-3hreX",
        "colab_type": "code",
        "outputId": "af924ff2-06e3-4466-ff3f-fa80d0dea0fc",
        "colab": {
          "base_uri": "https://localhost:8080/",
          "height": 204
        }
      },
      "source": [
        "df.head()"
      ],
      "execution_count": 0,
      "outputs": [
        {
          "output_type": "execute_result",
          "data": {
            "text/html": [
              "<div>\n",
              "<style scoped>\n",
              "    .dataframe tbody tr th:only-of-type {\n",
              "        vertical-align: middle;\n",
              "    }\n",
              "\n",
              "    .dataframe tbody tr th {\n",
              "        vertical-align: top;\n",
              "    }\n",
              "\n",
              "    .dataframe thead th {\n",
              "        text-align: right;\n",
              "    }\n",
              "</style>\n",
              "<table border=\"1\" class=\"dataframe\">\n",
              "  <thead>\n",
              "    <tr style=\"text-align: right;\">\n",
              "      <th></th>\n",
              "      <th>DXC_Level</th>\n",
              "      <th>Time_In_Profile</th>\n",
              "      <th>Legacy_Level</th>\n",
              "      <th>Compa-Ratio</th>\n",
              "      <th>LPI_Date</th>\n",
              "      <th>LOS_Years</th>\n",
              "      <th>C_R</th>\n",
              "      <th>P_R</th>\n",
              "    </tr>\n",
              "  </thead>\n",
              "  <tbody>\n",
              "    <tr>\n",
              "      <th>0</th>\n",
              "      <td>4</td>\n",
              "      <td>2 year(s), 0 month(s), 27 day(s)</td>\n",
              "      <td>16 Specialist</td>\n",
              "      <td>0.709</td>\n",
              "      <td>2018-01-01</td>\n",
              "      <td>9.810959</td>\n",
              "      <td>2.0</td>\n",
              "      <td>2.0</td>\n",
              "    </tr>\n",
              "    <tr>\n",
              "      <th>1</th>\n",
              "      <td>3</td>\n",
              "      <td>1 year(s), 6 month(s), 6 day(s)</td>\n",
              "      <td>18 Entry</td>\n",
              "      <td>0.921</td>\n",
              "      <td>2017-02-22</td>\n",
              "      <td>2.594521</td>\n",
              "      <td>2.0</td>\n",
              "      <td>NaN</td>\n",
              "    </tr>\n",
              "    <tr>\n",
              "      <th>2</th>\n",
              "      <td>3</td>\n",
              "      <td>1 year(s), 9 month(s), 27 day(s)</td>\n",
              "      <td>18 Entry</td>\n",
              "      <td>0.821</td>\n",
              "      <td>2018-01-01</td>\n",
              "      <td>3.098630</td>\n",
              "      <td>3.0</td>\n",
              "      <td>NaN</td>\n",
              "    </tr>\n",
              "    <tr>\n",
              "      <th>3</th>\n",
              "      <td>4</td>\n",
              "      <td>3 year(s), 0 month(s), 2 day(s)</td>\n",
              "      <td>17 Intermediate</td>\n",
              "      <td>0.751</td>\n",
              "      <td>2018-01-01</td>\n",
              "      <td>4.090411</td>\n",
              "      <td>3.0</td>\n",
              "      <td>2.0</td>\n",
              "    </tr>\n",
              "    <tr>\n",
              "      <th>4</th>\n",
              "      <td>4</td>\n",
              "      <td>4 year(s), 9 month(s), 27 day(s)</td>\n",
              "      <td>17 Intermediate</td>\n",
              "      <td>0.971</td>\n",
              "      <td>2016-02-01</td>\n",
              "      <td>9.306849</td>\n",
              "      <td>3.0</td>\n",
              "      <td>2.0</td>\n",
              "    </tr>\n",
              "  </tbody>\n",
              "</table>\n",
              "</div>"
            ],
            "text/plain": [
              "   DXC_Level                   Time_In_Profile  ...  C_R  P_R\n",
              "0          4  2 year(s), 0 month(s), 27 day(s)  ...  2.0  2.0\n",
              "1          3   1 year(s), 6 month(s), 6 day(s)  ...  2.0  NaN\n",
              "2          3  1 year(s), 9 month(s), 27 day(s)  ...  3.0  NaN\n",
              "3          4   3 year(s), 0 month(s), 2 day(s)  ...  3.0  2.0\n",
              "4          4  4 year(s), 9 month(s), 27 day(s)  ...  3.0  2.0\n",
              "\n",
              "[5 rows x 8 columns]"
            ]
          },
          "metadata": {
            "tags": []
          },
          "execution_count": 909
        }
      ]
    },
    {
      "cell_type": "markdown",
      "metadata": {
        "id": "OIWcZYzTlZjv",
        "colab_type": "text"
      },
      "source": [
        "**Strip the *Legacy_Level* column and keep the number part**"
      ]
    },
    {
      "cell_type": "code",
      "metadata": {
        "id": "lfzbWm0TjeHu",
        "colab_type": "code",
        "colab": {}
      },
      "source": [
        "df['Legacy_Level'] = df['Legacy_Level'].str.split(expand=True)[0]\n",
        "df_test['Legacy_Level'] = df_test['Legacy_Level'].str.split(expand=True)[0]"
      ],
      "execution_count": 0,
      "outputs": []
    },
    {
      "cell_type": "code",
      "metadata": {
        "id": "E8GzdnV2R6LG",
        "colab_type": "code",
        "outputId": "6e344d39-19a5-4464-f6a8-f3beaa2af98a",
        "colab": {
          "base_uri": "https://localhost:8080/",
          "height": 204
        }
      },
      "source": [
        "df.head(5)"
      ],
      "execution_count": 0,
      "outputs": [
        {
          "output_type": "execute_result",
          "data": {
            "text/html": [
              "<div>\n",
              "<style scoped>\n",
              "    .dataframe tbody tr th:only-of-type {\n",
              "        vertical-align: middle;\n",
              "    }\n",
              "\n",
              "    .dataframe tbody tr th {\n",
              "        vertical-align: top;\n",
              "    }\n",
              "\n",
              "    .dataframe thead th {\n",
              "        text-align: right;\n",
              "    }\n",
              "</style>\n",
              "<table border=\"1\" class=\"dataframe\">\n",
              "  <thead>\n",
              "    <tr style=\"text-align: right;\">\n",
              "      <th></th>\n",
              "      <th>DXC_Level</th>\n",
              "      <th>Time_In_Profile</th>\n",
              "      <th>Legacy_Level</th>\n",
              "      <th>Compa-Ratio</th>\n",
              "      <th>LPI_Date</th>\n",
              "      <th>LOS_Years</th>\n",
              "      <th>C_R</th>\n",
              "      <th>P_R</th>\n",
              "    </tr>\n",
              "  </thead>\n",
              "  <tbody>\n",
              "    <tr>\n",
              "      <th>0</th>\n",
              "      <td>4</td>\n",
              "      <td>2 year(s), 0 month(s), 27 day(s)</td>\n",
              "      <td>16</td>\n",
              "      <td>0.709</td>\n",
              "      <td>2018-01-01</td>\n",
              "      <td>9.810959</td>\n",
              "      <td>2.0</td>\n",
              "      <td>2.0</td>\n",
              "    </tr>\n",
              "    <tr>\n",
              "      <th>1</th>\n",
              "      <td>3</td>\n",
              "      <td>1 year(s), 6 month(s), 6 day(s)</td>\n",
              "      <td>18</td>\n",
              "      <td>0.921</td>\n",
              "      <td>2017-02-22</td>\n",
              "      <td>2.594521</td>\n",
              "      <td>2.0</td>\n",
              "      <td>NaN</td>\n",
              "    </tr>\n",
              "    <tr>\n",
              "      <th>2</th>\n",
              "      <td>3</td>\n",
              "      <td>1 year(s), 9 month(s), 27 day(s)</td>\n",
              "      <td>18</td>\n",
              "      <td>0.821</td>\n",
              "      <td>2018-01-01</td>\n",
              "      <td>3.098630</td>\n",
              "      <td>3.0</td>\n",
              "      <td>NaN</td>\n",
              "    </tr>\n",
              "    <tr>\n",
              "      <th>3</th>\n",
              "      <td>4</td>\n",
              "      <td>3 year(s), 0 month(s), 2 day(s)</td>\n",
              "      <td>17</td>\n",
              "      <td>0.751</td>\n",
              "      <td>2018-01-01</td>\n",
              "      <td>4.090411</td>\n",
              "      <td>3.0</td>\n",
              "      <td>2.0</td>\n",
              "    </tr>\n",
              "    <tr>\n",
              "      <th>4</th>\n",
              "      <td>4</td>\n",
              "      <td>4 year(s), 9 month(s), 27 day(s)</td>\n",
              "      <td>17</td>\n",
              "      <td>0.971</td>\n",
              "      <td>2016-02-01</td>\n",
              "      <td>9.306849</td>\n",
              "      <td>3.0</td>\n",
              "      <td>2.0</td>\n",
              "    </tr>\n",
              "  </tbody>\n",
              "</table>\n",
              "</div>"
            ],
            "text/plain": [
              "   DXC_Level                   Time_In_Profile  ...  C_R  P_R\n",
              "0          4  2 year(s), 0 month(s), 27 day(s)  ...  2.0  2.0\n",
              "1          3   1 year(s), 6 month(s), 6 day(s)  ...  2.0  NaN\n",
              "2          3  1 year(s), 9 month(s), 27 day(s)  ...  3.0  NaN\n",
              "3          4   3 year(s), 0 month(s), 2 day(s)  ...  3.0  2.0\n",
              "4          4  4 year(s), 9 month(s), 27 day(s)  ...  3.0  2.0\n",
              "\n",
              "[5 rows x 8 columns]"
            ]
          },
          "metadata": {
            "tags": []
          },
          "execution_count": 911
        }
      ]
    },
    {
      "cell_type": "markdown",
      "metadata": {
        "id": "6HGVCSwOmJ0e",
        "colab_type": "text"
      },
      "source": [
        "**Convert *Time_In_Profile* and *LPI_Date* to numeric**"
      ]
    },
    {
      "cell_type": "code",
      "metadata": {
        "id": "tBPwBscqTr7D",
        "colab_type": "code",
        "colab": {}
      },
      "source": [
        "#Convert Time_In_Profile\n",
        "s = df['Time_In_Profile'].str.split(expand=True)\n",
        "df['Time_In_Profile'] = pd.to_numeric(s[0]) + pd.to_numeric(s[2])/12 + pd.to_numeric(s[4])/365\n",
        "s_t = df_test['Time_In_Profile'].str.split(expand=True)\n",
        "df_test['Time_In_Profile'] = pd.to_numeric(s_t[0]) + pd.to_numeric(s_t[2])/12 + pd.to_numeric(s_t[4])/365\n",
        "#Convert LPI_Date\n",
        "dt = pd.to_datetime(pd.datetime.now().date())\n",
        "df['LPI_Date'] = pd.to_numeric(dt - pd.to_datetime(df['LPI_Date']))\n",
        "df_test['LPI_Date'] = pd.to_numeric(dt - pd.to_datetime(df_test['LPI_Date']))"
      ],
      "execution_count": 0,
      "outputs": []
    },
    {
      "cell_type": "code",
      "metadata": {
        "id": "kILzxMFVgEnn",
        "colab_type": "code",
        "outputId": "793170bd-f33d-4c33-d9b5-9dbc300b94bd",
        "colab": {
          "base_uri": "https://localhost:8080/",
          "height": 204
        }
      },
      "source": [
        "df.head()"
      ],
      "execution_count": 0,
      "outputs": [
        {
          "output_type": "execute_result",
          "data": {
            "text/html": [
              "<div>\n",
              "<style scoped>\n",
              "    .dataframe tbody tr th:only-of-type {\n",
              "        vertical-align: middle;\n",
              "    }\n",
              "\n",
              "    .dataframe tbody tr th {\n",
              "        vertical-align: top;\n",
              "    }\n",
              "\n",
              "    .dataframe thead th {\n",
              "        text-align: right;\n",
              "    }\n",
              "</style>\n",
              "<table border=\"1\" class=\"dataframe\">\n",
              "  <thead>\n",
              "    <tr style=\"text-align: right;\">\n",
              "      <th></th>\n",
              "      <th>DXC_Level</th>\n",
              "      <th>Time_In_Profile</th>\n",
              "      <th>Legacy_Level</th>\n",
              "      <th>Compa-Ratio</th>\n",
              "      <th>LPI_Date</th>\n",
              "      <th>LOS_Years</th>\n",
              "      <th>C_R</th>\n",
              "      <th>P_R</th>\n",
              "    </tr>\n",
              "  </thead>\n",
              "  <tbody>\n",
              "    <tr>\n",
              "      <th>0</th>\n",
              "      <td>4</td>\n",
              "      <td>2.073973</td>\n",
              "      <td>16</td>\n",
              "      <td>0.709</td>\n",
              "      <td>58320000000000000</td>\n",
              "      <td>9.810959</td>\n",
              "      <td>2.0</td>\n",
              "      <td>2.0</td>\n",
              "    </tr>\n",
              "    <tr>\n",
              "      <th>1</th>\n",
              "      <td>3</td>\n",
              "      <td>1.516438</td>\n",
              "      <td>18</td>\n",
              "      <td>0.921</td>\n",
              "      <td>85363200000000000</td>\n",
              "      <td>2.594521</td>\n",
              "      <td>2.0</td>\n",
              "      <td>NaN</td>\n",
              "    </tr>\n",
              "    <tr>\n",
              "      <th>2</th>\n",
              "      <td>3</td>\n",
              "      <td>1.823973</td>\n",
              "      <td>18</td>\n",
              "      <td>0.821</td>\n",
              "      <td>58320000000000000</td>\n",
              "      <td>3.098630</td>\n",
              "      <td>3.0</td>\n",
              "      <td>NaN</td>\n",
              "    </tr>\n",
              "    <tr>\n",
              "      <th>3</th>\n",
              "      <td>4</td>\n",
              "      <td>3.005479</td>\n",
              "      <td>17</td>\n",
              "      <td>0.751</td>\n",
              "      <td>58320000000000000</td>\n",
              "      <td>4.090411</td>\n",
              "      <td>3.0</td>\n",
              "      <td>2.0</td>\n",
              "    </tr>\n",
              "    <tr>\n",
              "      <th>4</th>\n",
              "      <td>4</td>\n",
              "      <td>4.823973</td>\n",
              "      <td>17</td>\n",
              "      <td>0.971</td>\n",
              "      <td>118800000000000000</td>\n",
              "      <td>9.306849</td>\n",
              "      <td>3.0</td>\n",
              "      <td>2.0</td>\n",
              "    </tr>\n",
              "  </tbody>\n",
              "</table>\n",
              "</div>"
            ],
            "text/plain": [
              "   DXC_Level  Time_In_Profile Legacy_Level  ...  LOS_Years  C_R  P_R\n",
              "0          4         2.073973           16  ...   9.810959  2.0  2.0\n",
              "1          3         1.516438           18  ...   2.594521  2.0  NaN\n",
              "2          3         1.823973           18  ...   3.098630  3.0  NaN\n",
              "3          4         3.005479           17  ...   4.090411  3.0  2.0\n",
              "4          4         4.823973           17  ...   9.306849  3.0  2.0\n",
              "\n",
              "[5 rows x 8 columns]"
            ]
          },
          "metadata": {
            "tags": []
          },
          "execution_count": 913
        }
      ]
    },
    {
      "cell_type": "code",
      "metadata": {
        "id": "yVRGXVxcRSen",
        "colab_type": "code",
        "outputId": "6eb3100f-3232-4a2e-cb8f-b7a765cb6d3e",
        "colab": {
          "base_uri": "https://localhost:8080/",
          "height": 204
        }
      },
      "source": [
        "df_test.head()"
      ],
      "execution_count": 0,
      "outputs": [
        {
          "output_type": "execute_result",
          "data": {
            "text/html": [
              "<div>\n",
              "<style scoped>\n",
              "    .dataframe tbody tr th:only-of-type {\n",
              "        vertical-align: middle;\n",
              "    }\n",
              "\n",
              "    .dataframe tbody tr th {\n",
              "        vertical-align: top;\n",
              "    }\n",
              "\n",
              "    .dataframe thead th {\n",
              "        text-align: right;\n",
              "    }\n",
              "</style>\n",
              "<table border=\"1\" class=\"dataframe\">\n",
              "  <thead>\n",
              "    <tr style=\"text-align: right;\">\n",
              "      <th></th>\n",
              "      <th>DXC_Level</th>\n",
              "      <th>Time_In_Profile</th>\n",
              "      <th>Legacy_Level</th>\n",
              "      <th>Compa-Ratio</th>\n",
              "      <th>LPI_Date</th>\n",
              "      <th>LOS_Years</th>\n",
              "      <th>C_R</th>\n",
              "      <th>P_R</th>\n",
              "    </tr>\n",
              "  </thead>\n",
              "  <tbody>\n",
              "    <tr>\n",
              "      <th>0</th>\n",
              "      <td>4</td>\n",
              "      <td>2.073973</td>\n",
              "      <td>16</td>\n",
              "      <td>0.709</td>\n",
              "      <td>58320000000000000</td>\n",
              "      <td>9.810959</td>\n",
              "      <td>2.0</td>\n",
              "      <td>2.0</td>\n",
              "    </tr>\n",
              "    <tr>\n",
              "      <th>1</th>\n",
              "      <td>3</td>\n",
              "      <td>1.516438</td>\n",
              "      <td>18</td>\n",
              "      <td>0.921</td>\n",
              "      <td>85363200000000000</td>\n",
              "      <td>2.594521</td>\n",
              "      <td>2.0</td>\n",
              "      <td>NaN</td>\n",
              "    </tr>\n",
              "    <tr>\n",
              "      <th>2</th>\n",
              "      <td>3</td>\n",
              "      <td>1.823973</td>\n",
              "      <td>18</td>\n",
              "      <td>0.821</td>\n",
              "      <td>58320000000000000</td>\n",
              "      <td>3.098630</td>\n",
              "      <td>3.0</td>\n",
              "      <td>NaN</td>\n",
              "    </tr>\n",
              "    <tr>\n",
              "      <th>3</th>\n",
              "      <td>4</td>\n",
              "      <td>3.005479</td>\n",
              "      <td>17</td>\n",
              "      <td>0.751</td>\n",
              "      <td>58320000000000000</td>\n",
              "      <td>4.090411</td>\n",
              "      <td>3.0</td>\n",
              "      <td>2.0</td>\n",
              "    </tr>\n",
              "    <tr>\n",
              "      <th>4</th>\n",
              "      <td>4</td>\n",
              "      <td>4.823973</td>\n",
              "      <td>17</td>\n",
              "      <td>0.971</td>\n",
              "      <td>118800000000000000</td>\n",
              "      <td>9.306849</td>\n",
              "      <td>3.0</td>\n",
              "      <td>2.0</td>\n",
              "    </tr>\n",
              "  </tbody>\n",
              "</table>\n",
              "</div>"
            ],
            "text/plain": [
              "   DXC_Level  Time_In_Profile Legacy_Level  ...  LOS_Years  C_R  P_R\n",
              "0          4         2.073973           16  ...   9.810959  2.0  2.0\n",
              "1          3         1.516438           18  ...   2.594521  2.0  NaN\n",
              "2          3         1.823973           18  ...   3.098630  3.0  NaN\n",
              "3          4         3.005479           17  ...   4.090411  3.0  2.0\n",
              "4          4         4.823973           17  ...   9.306849  3.0  2.0\n",
              "\n",
              "[5 rows x 8 columns]"
            ]
          },
          "metadata": {
            "tags": []
          },
          "execution_count": 914
        }
      ]
    },
    {
      "cell_type": "markdown",
      "metadata": {
        "id": "x2Kl-XRjiiud",
        "colab_type": "text"
      },
      "source": [
        "**Column C_R seem to contain not many null values as does P_R.**\n",
        "**We'll retain the nulls as they can be handled by both KNN and RF**\n"
      ]
    },
    {
      "cell_type": "code",
      "metadata": {
        "id": "sB2F67qhpWii",
        "colab_type": "code",
        "colab": {}
      },
      "source": [
        "df_superv = df.copy()\n",
        "\n",
        "#df['P_R'][df['P_R'].isna()] = 0.0\n",
        "#df_test['P_R'][df_test['P_R'].isna()] = 0.0\n",
        "\n",
        "#df['C_R'][df['C_R'].isna()] = 0.0\n",
        "#df_test['C_R'][df_test['C_R'].isna()] = 0.0\n",
        "\n"
      ],
      "execution_count": 0,
      "outputs": []
    },
    {
      "cell_type": "markdown",
      "metadata": {
        "id": "1uH3dVyKI9Kt",
        "colab_type": "text"
      },
      "source": [
        "**Convert to categorical values of supervised learning**"
      ]
    },
    {
      "cell_type": "code",
      "metadata": {
        "id": "V3v9NEctGUgD",
        "colab_type": "code",
        "colab": {}
      },
      "source": [
        "df_superv['DXC_Level'] = df_superv['DXC_Level'].astype(pd.CategoricalDtype(ordered=False))\n",
        "df_superv['Legacy_Level'] = df_superv['Legacy_Level'].astype(pd.CategoricalDtype(ordered=False))\n",
        "df_superv['C_R'] = df_superv['C_R'].astype(pd.CategoricalDtype(ordered=False))\n",
        "df_superv['P_R'] = df_superv['P_R'].astype(pd.CategoricalDtype(ordered=False))\n",
        "df_superv[\"Result\"] = pd.Series(result)\n",
        "df_superv['Result'] = df_superv['Result'].astype(pd.CategoricalDtype(ordered=False))"
      ],
      "execution_count": 0,
      "outputs": []
    },
    {
      "cell_type": "code",
      "metadata": {
        "id": "6OevwARAkV00",
        "colab_type": "code",
        "outputId": "b908cd68-ddfd-4885-c847-1732cf2ff70e",
        "colab": {
          "base_uri": "https://localhost:8080/",
          "height": 204
        }
      },
      "source": [
        "df.head()"
      ],
      "execution_count": 0,
      "outputs": [
        {
          "output_type": "execute_result",
          "data": {
            "text/html": [
              "<div>\n",
              "<style scoped>\n",
              "    .dataframe tbody tr th:only-of-type {\n",
              "        vertical-align: middle;\n",
              "    }\n",
              "\n",
              "    .dataframe tbody tr th {\n",
              "        vertical-align: top;\n",
              "    }\n",
              "\n",
              "    .dataframe thead th {\n",
              "        text-align: right;\n",
              "    }\n",
              "</style>\n",
              "<table border=\"1\" class=\"dataframe\">\n",
              "  <thead>\n",
              "    <tr style=\"text-align: right;\">\n",
              "      <th></th>\n",
              "      <th>DXC_Level</th>\n",
              "      <th>Time_In_Profile</th>\n",
              "      <th>Legacy_Level</th>\n",
              "      <th>Compa-Ratio</th>\n",
              "      <th>LPI_Date</th>\n",
              "      <th>LOS_Years</th>\n",
              "      <th>C_R</th>\n",
              "      <th>P_R</th>\n",
              "    </tr>\n",
              "  </thead>\n",
              "  <tbody>\n",
              "    <tr>\n",
              "      <th>0</th>\n",
              "      <td>4</td>\n",
              "      <td>2.073973</td>\n",
              "      <td>16</td>\n",
              "      <td>0.709</td>\n",
              "      <td>58320000000000000</td>\n",
              "      <td>9.810959</td>\n",
              "      <td>2.0</td>\n",
              "      <td>2.0</td>\n",
              "    </tr>\n",
              "    <tr>\n",
              "      <th>1</th>\n",
              "      <td>3</td>\n",
              "      <td>1.516438</td>\n",
              "      <td>18</td>\n",
              "      <td>0.921</td>\n",
              "      <td>85363200000000000</td>\n",
              "      <td>2.594521</td>\n",
              "      <td>2.0</td>\n",
              "      <td>NaN</td>\n",
              "    </tr>\n",
              "    <tr>\n",
              "      <th>2</th>\n",
              "      <td>3</td>\n",
              "      <td>1.823973</td>\n",
              "      <td>18</td>\n",
              "      <td>0.821</td>\n",
              "      <td>58320000000000000</td>\n",
              "      <td>3.098630</td>\n",
              "      <td>3.0</td>\n",
              "      <td>NaN</td>\n",
              "    </tr>\n",
              "    <tr>\n",
              "      <th>3</th>\n",
              "      <td>4</td>\n",
              "      <td>3.005479</td>\n",
              "      <td>17</td>\n",
              "      <td>0.751</td>\n",
              "      <td>58320000000000000</td>\n",
              "      <td>4.090411</td>\n",
              "      <td>3.0</td>\n",
              "      <td>2.0</td>\n",
              "    </tr>\n",
              "    <tr>\n",
              "      <th>4</th>\n",
              "      <td>4</td>\n",
              "      <td>4.823973</td>\n",
              "      <td>17</td>\n",
              "      <td>0.971</td>\n",
              "      <td>118800000000000000</td>\n",
              "      <td>9.306849</td>\n",
              "      <td>3.0</td>\n",
              "      <td>2.0</td>\n",
              "    </tr>\n",
              "  </tbody>\n",
              "</table>\n",
              "</div>"
            ],
            "text/plain": [
              "   DXC_Level  Time_In_Profile Legacy_Level  ...  LOS_Years  C_R  P_R\n",
              "0          4         2.073973           16  ...   9.810959  2.0  2.0\n",
              "1          3         1.516438           18  ...   2.594521  2.0  NaN\n",
              "2          3         1.823973           18  ...   3.098630  3.0  NaN\n",
              "3          4         3.005479           17  ...   4.090411  3.0  2.0\n",
              "4          4         4.823973           17  ...   9.306849  3.0  2.0\n",
              "\n",
              "[5 rows x 8 columns]"
            ]
          },
          "metadata": {
            "tags": []
          },
          "execution_count": 917
        }
      ]
    },
    {
      "cell_type": "code",
      "metadata": {
        "id": "kHnukwVmPvu6",
        "colab_type": "code",
        "outputId": "644f81ba-3aa2-454e-95ca-464c576671e9",
        "colab": {
          "base_uri": "https://localhost:8080/",
          "height": 204
        }
      },
      "source": [
        "df_test.head()"
      ],
      "execution_count": 0,
      "outputs": [
        {
          "output_type": "execute_result",
          "data": {
            "text/html": [
              "<div>\n",
              "<style scoped>\n",
              "    .dataframe tbody tr th:only-of-type {\n",
              "        vertical-align: middle;\n",
              "    }\n",
              "\n",
              "    .dataframe tbody tr th {\n",
              "        vertical-align: top;\n",
              "    }\n",
              "\n",
              "    .dataframe thead th {\n",
              "        text-align: right;\n",
              "    }\n",
              "</style>\n",
              "<table border=\"1\" class=\"dataframe\">\n",
              "  <thead>\n",
              "    <tr style=\"text-align: right;\">\n",
              "      <th></th>\n",
              "      <th>DXC_Level</th>\n",
              "      <th>Time_In_Profile</th>\n",
              "      <th>Legacy_Level</th>\n",
              "      <th>Compa-Ratio</th>\n",
              "      <th>LPI_Date</th>\n",
              "      <th>LOS_Years</th>\n",
              "      <th>C_R</th>\n",
              "      <th>P_R</th>\n",
              "    </tr>\n",
              "  </thead>\n",
              "  <tbody>\n",
              "    <tr>\n",
              "      <th>0</th>\n",
              "      <td>4</td>\n",
              "      <td>2.073973</td>\n",
              "      <td>16</td>\n",
              "      <td>0.709</td>\n",
              "      <td>58320000000000000</td>\n",
              "      <td>9.810959</td>\n",
              "      <td>2.0</td>\n",
              "      <td>2.0</td>\n",
              "    </tr>\n",
              "    <tr>\n",
              "      <th>1</th>\n",
              "      <td>3</td>\n",
              "      <td>1.516438</td>\n",
              "      <td>18</td>\n",
              "      <td>0.921</td>\n",
              "      <td>85363200000000000</td>\n",
              "      <td>2.594521</td>\n",
              "      <td>2.0</td>\n",
              "      <td>NaN</td>\n",
              "    </tr>\n",
              "    <tr>\n",
              "      <th>2</th>\n",
              "      <td>3</td>\n",
              "      <td>1.823973</td>\n",
              "      <td>18</td>\n",
              "      <td>0.821</td>\n",
              "      <td>58320000000000000</td>\n",
              "      <td>3.098630</td>\n",
              "      <td>3.0</td>\n",
              "      <td>NaN</td>\n",
              "    </tr>\n",
              "    <tr>\n",
              "      <th>3</th>\n",
              "      <td>4</td>\n",
              "      <td>3.005479</td>\n",
              "      <td>17</td>\n",
              "      <td>0.751</td>\n",
              "      <td>58320000000000000</td>\n",
              "      <td>4.090411</td>\n",
              "      <td>3.0</td>\n",
              "      <td>2.0</td>\n",
              "    </tr>\n",
              "    <tr>\n",
              "      <th>4</th>\n",
              "      <td>4</td>\n",
              "      <td>4.823973</td>\n",
              "      <td>17</td>\n",
              "      <td>0.971</td>\n",
              "      <td>118800000000000000</td>\n",
              "      <td>9.306849</td>\n",
              "      <td>3.0</td>\n",
              "      <td>2.0</td>\n",
              "    </tr>\n",
              "  </tbody>\n",
              "</table>\n",
              "</div>"
            ],
            "text/plain": [
              "   DXC_Level  Time_In_Profile Legacy_Level  ...  LOS_Years  C_R  P_R\n",
              "0          4         2.073973           16  ...   9.810959  2.0  2.0\n",
              "1          3         1.516438           18  ...   2.594521  2.0  NaN\n",
              "2          3         1.823973           18  ...   3.098630  3.0  NaN\n",
              "3          4         3.005479           17  ...   4.090411  3.0  2.0\n",
              "4          4         4.823973           17  ...   9.306849  3.0  2.0\n",
              "\n",
              "[5 rows x 8 columns]"
            ]
          },
          "metadata": {
            "tags": []
          },
          "execution_count": 918
        }
      ]
    },
    {
      "cell_type": "markdown",
      "metadata": {
        "id": "C4CMr9HIoFlm",
        "colab_type": "text"
      },
      "source": [
        "**Standardized the data (remove the mean and scale to unit variance)**"
      ]
    },
    {
      "cell_type": "code",
      "metadata": {
        "id": "Hy4Qi687jcda",
        "colab_type": "code",
        "outputId": "188731aa-7e99-4039-bce9-9aec76fe5178",
        "colab": {
          "base_uri": "https://localhost:8080/",
          "height": 419
        }
      },
      "source": [
        "from sklearn.preprocessing import StandardScaler\n",
        "scaler = StandardScaler()\n",
        "df_scaled = scaler.fit_transform(df)\n",
        "df_test_scaled = scaler.fit_transform(df_test)\n",
        "pd.DataFrame(df_test_scaled)\n"
      ],
      "execution_count": 0,
      "outputs": [
        {
          "output_type": "execute_result",
          "data": {
            "text/html": [
              "<div>\n",
              "<style scoped>\n",
              "    .dataframe tbody tr th:only-of-type {\n",
              "        vertical-align: middle;\n",
              "    }\n",
              "\n",
              "    .dataframe tbody tr th {\n",
              "        vertical-align: top;\n",
              "    }\n",
              "\n",
              "    .dataframe thead th {\n",
              "        text-align: right;\n",
              "    }\n",
              "</style>\n",
              "<table border=\"1\" class=\"dataframe\">\n",
              "  <thead>\n",
              "    <tr style=\"text-align: right;\">\n",
              "      <th></th>\n",
              "      <th>0</th>\n",
              "      <th>1</th>\n",
              "      <th>2</th>\n",
              "      <th>3</th>\n",
              "      <th>4</th>\n",
              "      <th>5</th>\n",
              "      <th>6</th>\n",
              "      <th>7</th>\n",
              "    </tr>\n",
              "  </thead>\n",
              "  <tbody>\n",
              "    <tr>\n",
              "      <th>0</th>\n",
              "      <td>0.589506</td>\n",
              "      <td>-0.842038</td>\n",
              "      <td>-1.119409</td>\n",
              "      <td>-0.325657</td>\n",
              "      <td>-0.500962</td>\n",
              "      <td>0.919802</td>\n",
              "      <td>-0.131812</td>\n",
              "      <td>0.568142</td>\n",
              "    </tr>\n",
              "    <tr>\n",
              "      <th>1</th>\n",
              "      <td>-1.010582</td>\n",
              "      <td>-1.254127</td>\n",
              "      <td>0.789327</td>\n",
              "      <td>0.393418</td>\n",
              "      <td>1.022101</td>\n",
              "      <td>-1.237033</td>\n",
              "      <td>-0.131812</td>\n",
              "      <td>NaN</td>\n",
              "    </tr>\n",
              "    <tr>\n",
              "      <th>2</th>\n",
              "      <td>-1.010582</td>\n",
              "      <td>-1.026820</td>\n",
              "      <td>0.789327</td>\n",
              "      <td>0.054232</td>\n",
              "      <td>-0.500962</td>\n",
              "      <td>-1.086366</td>\n",
              "      <td>1.335315</td>\n",
              "      <td>NaN</td>\n",
              "    </tr>\n",
              "    <tr>\n",
              "      <th>3</th>\n",
              "      <td>0.589506</td>\n",
              "      <td>-0.153535</td>\n",
              "      <td>-0.165041</td>\n",
              "      <td>-0.183199</td>\n",
              "      <td>-0.500962</td>\n",
              "      <td>-0.789945</td>\n",
              "      <td>1.335315</td>\n",
              "      <td>0.568142</td>\n",
              "    </tr>\n",
              "    <tr>\n",
              "      <th>4</th>\n",
              "      <td>0.589506</td>\n",
              "      <td>1.190564</td>\n",
              "      <td>-0.165041</td>\n",
              "      <td>0.563012</td>\n",
              "      <td>2.905250</td>\n",
              "      <td>0.769135</td>\n",
              "      <td>1.335315</td>\n",
              "      <td>0.568142</td>\n",
              "    </tr>\n",
              "    <tr>\n",
              "      <th>...</th>\n",
              "      <td>...</td>\n",
              "      <td>...</td>\n",
              "      <td>...</td>\n",
              "      <td>...</td>\n",
              "      <td>...</td>\n",
              "      <td>...</td>\n",
              "      <td>...</td>\n",
              "      <td>...</td>\n",
              "    </tr>\n",
              "    <tr>\n",
              "      <th>261</th>\n",
              "      <td>-1.010582</td>\n",
              "      <td>-0.595662</td>\n",
              "      <td>0.789327</td>\n",
              "      <td>-0.047524</td>\n",
              "      <td>0.988039</td>\n",
              "      <td>-0.816966</td>\n",
              "      <td>-0.131812</td>\n",
              "      <td>0.568142</td>\n",
              "    </tr>\n",
              "    <tr>\n",
              "      <th>262</th>\n",
              "      <td>-1.010582</td>\n",
              "      <td>-0.595662</td>\n",
              "      <td>0.789327</td>\n",
              "      <td>-0.050916</td>\n",
              "      <td>0.988039</td>\n",
              "      <td>-0.834162</td>\n",
              "      <td>-0.131812</td>\n",
              "      <td>0.568142</td>\n",
              "    </tr>\n",
              "    <tr>\n",
              "      <th>263</th>\n",
              "      <td>-1.010582</td>\n",
              "      <td>-1.026820</td>\n",
              "      <td>0.789327</td>\n",
              "      <td>-0.006822</td>\n",
              "      <td>-0.500962</td>\n",
              "      <td>-0.342856</td>\n",
              "      <td>-0.131812</td>\n",
              "      <td>-1.760125</td>\n",
              "    </tr>\n",
              "    <tr>\n",
              "      <th>264</th>\n",
              "      <td>0.589506</td>\n",
              "      <td>1.190564</td>\n",
              "      <td>-1.119409</td>\n",
              "      <td>0.101718</td>\n",
              "      <td>-0.500962</td>\n",
              "      <td>0.625837</td>\n",
              "      <td>-0.131812</td>\n",
              "      <td>0.568142</td>\n",
              "    </tr>\n",
              "    <tr>\n",
              "      <th>265</th>\n",
              "      <td>-1.010582</td>\n",
              "      <td>0.429161</td>\n",
              "      <td>0.789327</td>\n",
              "      <td>0.569795</td>\n",
              "      <td>-0.500962</td>\n",
              "      <td>-0.554936</td>\n",
              "      <td>-0.131812</td>\n",
              "      <td>0.568142</td>\n",
              "    </tr>\n",
              "  </tbody>\n",
              "</table>\n",
              "<p>266 rows × 8 columns</p>\n",
              "</div>"
            ],
            "text/plain": [
              "            0         1         2  ...         5         6         7\n",
              "0    0.589506 -0.842038 -1.119409  ...  0.919802 -0.131812  0.568142\n",
              "1   -1.010582 -1.254127  0.789327  ... -1.237033 -0.131812       NaN\n",
              "2   -1.010582 -1.026820  0.789327  ... -1.086366  1.335315       NaN\n",
              "3    0.589506 -0.153535 -0.165041  ... -0.789945  1.335315  0.568142\n",
              "4    0.589506  1.190564 -0.165041  ...  0.769135  1.335315  0.568142\n",
              "..        ...       ...       ...  ...       ...       ...       ...\n",
              "261 -1.010582 -0.595662  0.789327  ... -0.816966 -0.131812  0.568142\n",
              "262 -1.010582 -0.595662  0.789327  ... -0.834162 -0.131812  0.568142\n",
              "263 -1.010582 -1.026820  0.789327  ... -0.342856 -0.131812 -1.760125\n",
              "264  0.589506  1.190564 -1.119409  ...  0.625837 -0.131812  0.568142\n",
              "265 -1.010582  0.429161  0.789327  ... -0.554936 -0.131812  0.568142\n",
              "\n",
              "[266 rows x 8 columns]"
            ]
          },
          "metadata": {
            "tags": []
          },
          "execution_count": 919
        }
      ]
    },
    {
      "cell_type": "code",
      "metadata": {
        "id": "cL07HB7iLyT_",
        "colab_type": "code",
        "outputId": "7c1958a9-e2ca-485d-dcc8-dba8c10c763b",
        "colab": {
          "base_uri": "https://localhost:8080/",
          "height": 204
        }
      },
      "source": [
        "pd.DataFrame(df_scaled).head(5)"
      ],
      "execution_count": 0,
      "outputs": [
        {
          "output_type": "execute_result",
          "data": {
            "text/html": [
              "<div>\n",
              "<style scoped>\n",
              "    .dataframe tbody tr th:only-of-type {\n",
              "        vertical-align: middle;\n",
              "    }\n",
              "\n",
              "    .dataframe tbody tr th {\n",
              "        vertical-align: top;\n",
              "    }\n",
              "\n",
              "    .dataframe thead th {\n",
              "        text-align: right;\n",
              "    }\n",
              "</style>\n",
              "<table border=\"1\" class=\"dataframe\">\n",
              "  <thead>\n",
              "    <tr style=\"text-align: right;\">\n",
              "      <th></th>\n",
              "      <th>0</th>\n",
              "      <th>1</th>\n",
              "      <th>2</th>\n",
              "      <th>3</th>\n",
              "      <th>4</th>\n",
              "      <th>5</th>\n",
              "      <th>6</th>\n",
              "      <th>7</th>\n",
              "    </tr>\n",
              "  </thead>\n",
              "  <tbody>\n",
              "    <tr>\n",
              "      <th>0</th>\n",
              "      <td>0.589506</td>\n",
              "      <td>-0.842038</td>\n",
              "      <td>-1.119409</td>\n",
              "      <td>-0.325657</td>\n",
              "      <td>-0.500962</td>\n",
              "      <td>0.919802</td>\n",
              "      <td>-0.131812</td>\n",
              "      <td>0.568142</td>\n",
              "    </tr>\n",
              "    <tr>\n",
              "      <th>1</th>\n",
              "      <td>-1.010582</td>\n",
              "      <td>-1.254127</td>\n",
              "      <td>0.789327</td>\n",
              "      <td>0.393418</td>\n",
              "      <td>1.022101</td>\n",
              "      <td>-1.237033</td>\n",
              "      <td>-0.131812</td>\n",
              "      <td>NaN</td>\n",
              "    </tr>\n",
              "    <tr>\n",
              "      <th>2</th>\n",
              "      <td>-1.010582</td>\n",
              "      <td>-1.026820</td>\n",
              "      <td>0.789327</td>\n",
              "      <td>0.054232</td>\n",
              "      <td>-0.500962</td>\n",
              "      <td>-1.086366</td>\n",
              "      <td>1.335315</td>\n",
              "      <td>NaN</td>\n",
              "    </tr>\n",
              "    <tr>\n",
              "      <th>3</th>\n",
              "      <td>0.589506</td>\n",
              "      <td>-0.153535</td>\n",
              "      <td>-0.165041</td>\n",
              "      <td>-0.183199</td>\n",
              "      <td>-0.500962</td>\n",
              "      <td>-0.789945</td>\n",
              "      <td>1.335315</td>\n",
              "      <td>0.568142</td>\n",
              "    </tr>\n",
              "    <tr>\n",
              "      <th>4</th>\n",
              "      <td>0.589506</td>\n",
              "      <td>1.190564</td>\n",
              "      <td>-0.165041</td>\n",
              "      <td>0.563012</td>\n",
              "      <td>2.905250</td>\n",
              "      <td>0.769135</td>\n",
              "      <td>1.335315</td>\n",
              "      <td>0.568142</td>\n",
              "    </tr>\n",
              "  </tbody>\n",
              "</table>\n",
              "</div>"
            ],
            "text/plain": [
              "          0         1         2  ...         5         6         7\n",
              "0  0.589506 -0.842038 -1.119409  ...  0.919802 -0.131812  0.568142\n",
              "1 -1.010582 -1.254127  0.789327  ... -1.237033 -0.131812       NaN\n",
              "2 -1.010582 -1.026820  0.789327  ... -1.086366  1.335315       NaN\n",
              "3  0.589506 -0.153535 -0.165041  ... -0.789945  1.335315  0.568142\n",
              "4  0.589506  1.190564 -0.165041  ...  0.769135  1.335315  0.568142\n",
              "\n",
              "[5 rows x 8 columns]"
            ]
          },
          "metadata": {
            "tags": []
          },
          "execution_count": 920
        }
      ]
    },
    {
      "cell_type": "code",
      "metadata": {
        "id": "5aGVV7ahdYUq",
        "colab_type": "code",
        "outputId": "83f7d023-c1b9-4e10-fdf4-7a0a80c8c968",
        "colab": {
          "base_uri": "https://localhost:8080/",
          "height": 204
        }
      },
      "source": [
        "from sklearn.impute import SimpleImputer\n",
        "imp = SimpleImputer(strategy=\"mean\")\n",
        "df_scaled = imp.fit_transform(df_scaled)\n",
        "df_test_scaled = imp.fit_transform(df_test_scaled)\n",
        "pd.DataFrame(df_scaled).head(5)"
      ],
      "execution_count": 0,
      "outputs": [
        {
          "output_type": "execute_result",
          "data": {
            "text/html": [
              "<div>\n",
              "<style scoped>\n",
              "    .dataframe tbody tr th:only-of-type {\n",
              "        vertical-align: middle;\n",
              "    }\n",
              "\n",
              "    .dataframe tbody tr th {\n",
              "        vertical-align: top;\n",
              "    }\n",
              "\n",
              "    .dataframe thead th {\n",
              "        text-align: right;\n",
              "    }\n",
              "</style>\n",
              "<table border=\"1\" class=\"dataframe\">\n",
              "  <thead>\n",
              "    <tr style=\"text-align: right;\">\n",
              "      <th></th>\n",
              "      <th>0</th>\n",
              "      <th>1</th>\n",
              "      <th>2</th>\n",
              "      <th>3</th>\n",
              "      <th>4</th>\n",
              "      <th>5</th>\n",
              "      <th>6</th>\n",
              "      <th>7</th>\n",
              "    </tr>\n",
              "  </thead>\n",
              "  <tbody>\n",
              "    <tr>\n",
              "      <th>0</th>\n",
              "      <td>0.589506</td>\n",
              "      <td>-0.842038</td>\n",
              "      <td>-1.119409</td>\n",
              "      <td>-0.325657</td>\n",
              "      <td>-0.500962</td>\n",
              "      <td>0.919802</td>\n",
              "      <td>-0.131812</td>\n",
              "      <td>5.681415e-01</td>\n",
              "    </tr>\n",
              "    <tr>\n",
              "      <th>1</th>\n",
              "      <td>-1.010582</td>\n",
              "      <td>-1.254127</td>\n",
              "      <td>0.789327</td>\n",
              "      <td>0.393418</td>\n",
              "      <td>1.022101</td>\n",
              "      <td>-1.237033</td>\n",
              "      <td>-0.131812</td>\n",
              "      <td>6.799452e-17</td>\n",
              "    </tr>\n",
              "    <tr>\n",
              "      <th>2</th>\n",
              "      <td>-1.010582</td>\n",
              "      <td>-1.026820</td>\n",
              "      <td>0.789327</td>\n",
              "      <td>0.054232</td>\n",
              "      <td>-0.500962</td>\n",
              "      <td>-1.086366</td>\n",
              "      <td>1.335315</td>\n",
              "      <td>6.799452e-17</td>\n",
              "    </tr>\n",
              "    <tr>\n",
              "      <th>3</th>\n",
              "      <td>0.589506</td>\n",
              "      <td>-0.153535</td>\n",
              "      <td>-0.165041</td>\n",
              "      <td>-0.183199</td>\n",
              "      <td>-0.500962</td>\n",
              "      <td>-0.789945</td>\n",
              "      <td>1.335315</td>\n",
              "      <td>5.681415e-01</td>\n",
              "    </tr>\n",
              "    <tr>\n",
              "      <th>4</th>\n",
              "      <td>0.589506</td>\n",
              "      <td>1.190564</td>\n",
              "      <td>-0.165041</td>\n",
              "      <td>0.563012</td>\n",
              "      <td>2.905250</td>\n",
              "      <td>0.769135</td>\n",
              "      <td>1.335315</td>\n",
              "      <td>5.681415e-01</td>\n",
              "    </tr>\n",
              "  </tbody>\n",
              "</table>\n",
              "</div>"
            ],
            "text/plain": [
              "          0         1         2  ...         5         6             7\n",
              "0  0.589506 -0.842038 -1.119409  ...  0.919802 -0.131812  5.681415e-01\n",
              "1 -1.010582 -1.254127  0.789327  ... -1.237033 -0.131812  6.799452e-17\n",
              "2 -1.010582 -1.026820  0.789327  ... -1.086366  1.335315  6.799452e-17\n",
              "3  0.589506 -0.153535 -0.165041  ... -0.789945  1.335315  5.681415e-01\n",
              "4  0.589506  1.190564 -0.165041  ...  0.769135  1.335315  5.681415e-01\n",
              "\n",
              "[5 rows x 8 columns]"
            ]
          },
          "metadata": {
            "tags": []
          },
          "execution_count": 921
        }
      ]
    },
    {
      "cell_type": "markdown",
      "metadata": {
        "id": "zkKvwxKefCvb",
        "colab_type": "text"
      },
      "source": [
        "**Combine the test, train and bring back ID**"
      ]
    },
    {
      "cell_type": "code",
      "metadata": {
        "id": "3pRX4aGLfTSY",
        "colab_type": "code",
        "colab": {}
      },
      "source": [
        "df_comb_ID = pd.concat([df_ID, pd.DataFrame(df_scaled)], axis=1)\n",
        "df_test_comb_ID = pd.concat([df_test_ID, pd.DataFrame(df_test_scaled)], axis=1)\n",
        "df_comb = pd.concat([df_comb_ID, df_test_comb_ID], ignore_index=True)\n",
        "df_comb_tot_ID = df_comb['ID']\n",
        "df_comb.drop('ID', axis=1, inplace=True)"
      ],
      "execution_count": 0,
      "outputs": []
    },
    {
      "cell_type": "markdown",
      "metadata": {
        "id": "wIX6WVTPokI_",
        "colab_type": "text"
      },
      "source": [
        "#Summon the \"Unsupervised\" brother first!\n",
        "**K-means**"
      ]
    },
    {
      "cell_type": "code",
      "metadata": {
        "id": "U6R6ERacjUWt",
        "colab_type": "code",
        "outputId": "5038943c-58ac-441c-d7a6-5ef80883b566",
        "colab": {
          "base_uri": "https://localhost:8080/",
          "height": 385
        }
      },
      "source": [
        "from time import time\n",
        "from sklearn import metrics\n",
        "from sklearn.cluster import KMeans\n",
        "from sklearn.decomposition import PCA\n",
        "import numpy as np\n",
        "import matplotlib.pyplot as plt\n",
        "\n",
        "\n",
        "print(82 * '_')\n",
        "print('init\\t\\ttime\\tinertia\\thomo\\tcompl\\tv-meas\\tARI\\tAMI\\tsilhouette')\n",
        "\n",
        "data = df_scaled\n",
        "n_digits = 3\n",
        "labels = result\n",
        "\n",
        "sample_size = result.count()\n",
        "\n",
        "def bench_k_means(estimator, name, data):\n",
        "    t0 = time()\n",
        "    estimator.fit(data)\n",
        "    print('%-9s\\t%.2fs\\t%i\\t%.3f\\t%.3f\\t%.3f\\t%.3f\\t%.3f\\t%.3f'\n",
        "          % (name, (time() - t0), estimator.inertia_,\n",
        "             metrics.homogeneity_score(labels, estimator.labels_),\n",
        "             metrics.completeness_score(labels, estimator.labels_),\n",
        "             metrics.v_measure_score(labels, estimator.labels_),\n",
        "             metrics.adjusted_rand_score(labels, estimator.labels_),\n",
        "             metrics.adjusted_mutual_info_score(labels,  estimator.labels_,\n",
        "                                                average_method='arithmetic'),\n",
        "             metrics.silhouette_score(data, estimator.labels_,\n",
        "                                      metric='euclidean',\n",
        "                                      sample_size=sample_size)))\n",
        "    return(labels, estimator.labels_)\n",
        "est1 = bench_k_means(KMeans(init='k-means++', n_clusters=n_digits, n_init=10),\n",
        "              name=\"k-means++\", data=data)\n",
        "df_comp1 = pd.DataFrame(est1)\n",
        "\n",
        "est2 =  KMeans(init='k-means++', n_clusters=n_digits, n_init=10)\n",
        "df_comp_tot = est2.fit(df_comb).labels_\n",
        "\n",
        "bench_k_means(KMeans(init='random', n_clusters=n_digits, n_init=10),\n",
        "              name=\"random\", data=data)\n",
        "\n",
        "# in this case the seeding of the centers is deterministic, hence we run the\n",
        "# kmeans algorithm only once with n_init=1\n",
        "pca = PCA(n_components=n_digits).fit(data)\n",
        "bench_k_means(KMeans(init=pca.components_, n_clusters=n_digits, n_init=1),\n",
        "              name=\"PCA-based\",\n",
        "              data=data)\n",
        "print(82 * '_')\n",
        "\n",
        "# #############################################################################\n",
        "# Visualize the results on PCA-reduced data\n",
        "\n",
        "reduced_data = PCA(n_components=2).fit_transform(data)\n",
        "kmeans = KMeans(init='k-means++', n_clusters=n_digits, n_init=10)\n",
        "kmeans.fit(reduced_data)\n",
        "\n",
        "# Step size of the mesh. Decrease to increase the quality of the VQ.\n",
        "h = .02     # point in the mesh [x_min, x_max]x[y_min, y_max].\n",
        "\n",
        "# Plot the decision boundary. For that, we will assign a color to each\n",
        "x_min, x_max = reduced_data[:, 0].min() - 1, reduced_data[:, 0].max() + 1\n",
        "y_min, y_max = reduced_data[:, 1].min() - 1, reduced_data[:, 1].max() + 1\n",
        "xx, yy = np.meshgrid(np.arange(x_min, x_max, h), np.arange(y_min, y_max, h))\n",
        "\n",
        "# Obtain labels for each point in mesh. Use last trained model.\n",
        "Z = kmeans.predict(np.c_[xx.ravel(), yy.ravel()])\n",
        "\n",
        "# Put the result into a color plot\n",
        "Z = Z.reshape(xx.shape)\n",
        "plt.figure(1)\n",
        "plt.clf()\n",
        "plt.imshow(Z, interpolation='nearest',\n",
        "           extent=(xx.min(), xx.max(), yy.min(), yy.max()),\n",
        "           cmap=plt.cm.Paired,\n",
        "           aspect='auto', origin='lower')\n",
        "\n",
        "plt.plot(reduced_data[:, 0], reduced_data[:, 1], 'k.', markersize=2)\n",
        "# Plot the centroids as a white X\n",
        "centroids = kmeans.cluster_centers_\n",
        "plt.scatter(centroids[:, 0], centroids[:, 1],\n",
        "            marker='x', s=169, linewidths=3,\n",
        "            color='w', zorder=10)\n",
        "plt.title('K-means clustering on the study dataset (PCA-reduced data)\\n'\n",
        "          'Centroids are marked with white cross')\n",
        "plt.xlim(x_min, x_max)\n",
        "plt.ylim(y_min, y_max)\n",
        "plt.xticks(())\n",
        "plt.yticks(())\n",
        "plt.show()"
      ],
      "execution_count": 0,
      "outputs": [
        {
          "output_type": "stream",
          "text": [
            "__________________________________________________________________________________\n",
            "init\t\ttime\tinertia\thomo\tcompl\tv-meas\tARI\tAMI\tsilhouette\n",
            "k-means++\t0.03s\t1298\t0.011\t0.007\t0.009\t0.010\t0.004\t0.254\n",
            "random   \t0.03s\t1304\t0.021\t0.014\t0.017\t0.032\t0.012\t0.266\n",
            "PCA-based\t0.00s\t1317\t0.006\t0.004\t0.005\t-0.008\t0.000\t0.252\n",
            "__________________________________________________________________________________\n"
          ],
          "name": "stdout"
        },
        {
          "output_type": "display_data",
          "data": {
            "image/png": "[encoded data removed]",
            "text/plain": [
              "<Figure size 432x288 with 1 Axes>"
            ]
          },
          "metadata": {
            "tags": []
          }
        }
      ]
    },
    {
      "cell_type": "code",
      "metadata": {
        "id": "gzwP5qlUfYLS",
        "colab_type": "code",
        "outputId": "5fce3648-7b16-4bbe-b764-dbeb13d18225",
        "colab": {
          "base_uri": "https://localhost:8080/",
          "height": 359
        }
      },
      "source": [
        "df_comp1_X = df_comp1.transpose()\n",
        "df_comp1_X.rename(columns={ df_comp1_X.columns[1]: \"cluster_number\"}, inplace=True)\n",
        "df_comp1_X.head(10)"
      ],
      "execution_count": 0,
      "outputs": [
        {
          "output_type": "execute_result",
          "data": {
            "text/html": [
              "<div>\n",
              "<style scoped>\n",
              "    .dataframe tbody tr th:only-of-type {\n",
              "        vertical-align: middle;\n",
              "    }\n",
              "\n",
              "    .dataframe tbody tr th {\n",
              "        vertical-align: top;\n",
              "    }\n",
              "\n",
              "    .dataframe thead th {\n",
              "        text-align: right;\n",
              "    }\n",
              "</style>\n",
              "<table border=\"1\" class=\"dataframe\">\n",
              "  <thead>\n",
              "    <tr style=\"text-align: right;\">\n",
              "      <th></th>\n",
              "      <th>Result</th>\n",
              "      <th>cluster_number</th>\n",
              "    </tr>\n",
              "  </thead>\n",
              "  <tbody>\n",
              "    <tr>\n",
              "      <th>0</th>\n",
              "      <td>0</td>\n",
              "      <td>1</td>\n",
              "    </tr>\n",
              "    <tr>\n",
              "      <th>1</th>\n",
              "      <td>1</td>\n",
              "      <td>0</td>\n",
              "    </tr>\n",
              "    <tr>\n",
              "      <th>2</th>\n",
              "      <td>0</td>\n",
              "      <td>0</td>\n",
              "    </tr>\n",
              "    <tr>\n",
              "      <th>3</th>\n",
              "      <td>0</td>\n",
              "      <td>0</td>\n",
              "    </tr>\n",
              "    <tr>\n",
              "      <th>4</th>\n",
              "      <td>1</td>\n",
              "      <td>1</td>\n",
              "    </tr>\n",
              "    <tr>\n",
              "      <th>5</th>\n",
              "      <td>1</td>\n",
              "      <td>2</td>\n",
              "    </tr>\n",
              "    <tr>\n",
              "      <th>6</th>\n",
              "      <td>0</td>\n",
              "      <td>0</td>\n",
              "    </tr>\n",
              "    <tr>\n",
              "      <th>7</th>\n",
              "      <td>1</td>\n",
              "      <td>0</td>\n",
              "    </tr>\n",
              "    <tr>\n",
              "      <th>8</th>\n",
              "      <td>1</td>\n",
              "      <td>1</td>\n",
              "    </tr>\n",
              "    <tr>\n",
              "      <th>9</th>\n",
              "      <td>0</td>\n",
              "      <td>0</td>\n",
              "    </tr>\n",
              "  </tbody>\n",
              "</table>\n",
              "</div>"
            ],
            "text/plain": [
              "   Result  cluster_number\n",
              "0       0               1\n",
              "1       1               0\n",
              "2       0               0\n",
              "3       0               0\n",
              "4       1               1\n",
              "5       1               2\n",
              "6       0               0\n",
              "7       1               0\n",
              "8       1               1\n",
              "9       0               0"
            ]
          },
          "metadata": {
            "tags": []
          },
          "execution_count": 924
        }
      ]
    },
    {
      "cell_type": "code",
      "metadata": {
        "id": "s7nx4WDktjIP",
        "colab_type": "code",
        "colab": {}
      },
      "source": [
        "\n",
        "df_comp1_X['idx'] = df_comp1_X.index\n",
        "a = df_comp1_X.groupby(['cluster_number', 'Result']).count().reset_index()\n",
        "cluster_sum = a.groupby(['cluster_number']).sum().idx.reset_index()"
      ],
      "execution_count": 0,
      "outputs": []
    },
    {
      "cell_type": "markdown",
      "metadata": {
        "id": "L3rjnrLMGl4W",
        "colab_type": "text"
      },
      "source": [
        "**Here are the attrition probablilities**"
      ]
    },
    {
      "cell_type": "code",
      "metadata": {
        "id": "24t_fg7n4iYc",
        "colab_type": "code",
        "outputId": "7b3562bb-5a90-463b-82da-3a7bb570721a",
        "colab": {
          "base_uri": "https://localhost:8080/",
          "height": 68
        }
      },
      "source": [
        "#probability scores if your data is in a particular cluster\n",
        "for i in cluster_sum['cluster_number'].values:\n",
        "  x = a.loc[(a['cluster_number'] == i) & (a['Result'] == 1.0 )]['idx']\n",
        "  y = cluster_sum.loc[cluster_sum['cluster_number'] == i]['idx']\n",
        "  p = x.values[0]/y.values[0]\n",
        "  print('Attrition probability in cluster %d = %d percent' %(i, p*100))"
      ],
      "execution_count": 0,
      "outputs": [
        {
          "output_type": "stream",
          "text": [
            "Attrition probability in cluster 0 = 41 percent\n",
            "Attrition probability in cluster 1 = 29 percent\n",
            "Attrition probability in cluster 2 = 39 percent\n"
          ],
          "name": "stdout"
        }
      ]
    },
    {
      "cell_type": "code",
      "metadata": {
        "id": "B5OjAg8aEKww",
        "colab_type": "code",
        "colab": {}
      },
      "source": [
        "df[\"Result\"] = df_comp1_X['Result']\n",
        "df[\"cluster\"] = df_comp1_X['cluster_number']"
      ],
      "execution_count": 0,
      "outputs": []
    },
    {
      "cell_type": "code",
      "metadata": {
        "id": "aWbSRvqrieFp",
        "colab_type": "code",
        "outputId": "fe0a361d-753e-4dcb-8b47-ed6a409b86a1",
        "colab": {
          "base_uri": "https://localhost:8080/",
          "height": 359
        }
      },
      "source": [
        "df_comp_tot_X = df_comp_tot.transpose()\n",
        "df_final_clus = pd.concat([df_comb_tot_ID, pd.DataFrame(df_comp_tot_X)], axis=1)\n",
        "df_final_clus.rename({df_final_clus.columns[1]:'Cluster'}, axis=1, inplace=True)\n",
        "df_final_clus.head(10)"
      ],
      "execution_count": 0,
      "outputs": [
        {
          "output_type": "execute_result",
          "data": {
            "text/html": [
              "<div>\n",
              "<style scoped>\n",
              "    .dataframe tbody tr th:only-of-type {\n",
              "        vertical-align: middle;\n",
              "    }\n",
              "\n",
              "    .dataframe tbody tr th {\n",
              "        vertical-align: top;\n",
              "    }\n",
              "\n",
              "    .dataframe thead th {\n",
              "        text-align: right;\n",
              "    }\n",
              "</style>\n",
              "<table border=\"1\" class=\"dataframe\">\n",
              "  <thead>\n",
              "    <tr style=\"text-align: right;\">\n",
              "      <th></th>\n",
              "      <th>ID</th>\n",
              "      <th>Cluster</th>\n",
              "    </tr>\n",
              "  </thead>\n",
              "  <tbody>\n",
              "    <tr>\n",
              "      <th>0</th>\n",
              "      <td>1000</td>\n",
              "      <td>1</td>\n",
              "    </tr>\n",
              "    <tr>\n",
              "      <th>1</th>\n",
              "      <td>1001</td>\n",
              "      <td>2</td>\n",
              "    </tr>\n",
              "    <tr>\n",
              "      <th>2</th>\n",
              "      <td>1002</td>\n",
              "      <td>2</td>\n",
              "    </tr>\n",
              "    <tr>\n",
              "      <th>3</th>\n",
              "      <td>1003</td>\n",
              "      <td>1</td>\n",
              "    </tr>\n",
              "    <tr>\n",
              "      <th>4</th>\n",
              "      <td>1004</td>\n",
              "      <td>1</td>\n",
              "    </tr>\n",
              "    <tr>\n",
              "      <th>5</th>\n",
              "      <td>1005</td>\n",
              "      <td>0</td>\n",
              "    </tr>\n",
              "    <tr>\n",
              "      <th>6</th>\n",
              "      <td>1006</td>\n",
              "      <td>2</td>\n",
              "    </tr>\n",
              "    <tr>\n",
              "      <th>7</th>\n",
              "      <td>1007</td>\n",
              "      <td>2</td>\n",
              "    </tr>\n",
              "    <tr>\n",
              "      <th>8</th>\n",
              "      <td>1008</td>\n",
              "      <td>1</td>\n",
              "    </tr>\n",
              "    <tr>\n",
              "      <th>9</th>\n",
              "      <td>1009</td>\n",
              "      <td>2</td>\n",
              "    </tr>\n",
              "  </tbody>\n",
              "</table>\n",
              "</div>"
            ],
            "text/plain": [
              "     ID  Cluster\n",
              "0  1000        1\n",
              "1  1001        2\n",
              "2  1002        2\n",
              "3  1003        1\n",
              "4  1004        1\n",
              "5  1005        0\n",
              "6  1006        2\n",
              "7  1007        2\n",
              "8  1008        1\n",
              "9  1009        2"
            ]
          },
          "metadata": {
            "tags": []
          },
          "execution_count": 928
        }
      ]
    },
    {
      "cell_type": "code",
      "metadata": {
        "id": "RphX5SuNsTMc",
        "colab_type": "code",
        "outputId": "89965d5f-82c0-4a71-d00c-61fdfe421ba7",
        "colab": {
          "base_uri": "https://localhost:8080/",
          "height": 111
        }
      },
      "source": [
        "df_final_clus.loc[df_final_clus['ID'] == 1009]"
      ],
      "execution_count": 0,
      "outputs": [
        {
          "output_type": "execute_result",
          "data": {
            "text/html": [
              "<div>\n",
              "<style scoped>\n",
              "    .dataframe tbody tr th:only-of-type {\n",
              "        vertical-align: middle;\n",
              "    }\n",
              "\n",
              "    .dataframe tbody tr th {\n",
              "        vertical-align: top;\n",
              "    }\n",
              "\n",
              "    .dataframe thead th {\n",
              "        text-align: right;\n",
              "    }\n",
              "</style>\n",
              "<table border=\"1\" class=\"dataframe\">\n",
              "  <thead>\n",
              "    <tr style=\"text-align: right;\">\n",
              "      <th></th>\n",
              "      <th>ID</th>\n",
              "      <th>Cluster</th>\n",
              "    </tr>\n",
              "  </thead>\n",
              "  <tbody>\n",
              "    <tr>\n",
              "      <th>9</th>\n",
              "      <td>1009</td>\n",
              "      <td>2</td>\n",
              "    </tr>\n",
              "    <tr>\n",
              "      <th>275</th>\n",
              "      <td>1009</td>\n",
              "      <td>2</td>\n",
              "    </tr>\n",
              "  </tbody>\n",
              "</table>\n",
              "</div>"
            ],
            "text/plain": [
              "       ID  Cluster\n",
              "9    1009        2\n",
              "275  1009        2"
            ]
          },
          "metadata": {
            "tags": []
          },
          "execution_count": 929
        }
      ]
    },
    {
      "cell_type": "code",
      "metadata": {
        "id": "_xvra64CFIHm",
        "colab_type": "code",
        "outputId": "b0a20093-63de-42d2-a102-152456016546",
        "colab": {
          "base_uri": "https://localhost:8080/",
          "height": 85
        }
      },
      "source": [
        "#df['cluster'][87]\n",
        "df.index[df[\"cluster\"] == 0]"
      ],
      "execution_count": 0,
      "outputs": [
        {
          "output_type": "execute_result",
          "data": {
            "text/plain": [
              "Int64Index([  1,   2,   3,   6,   7,   9,  13,  18,  19,  20,\n",
              "            ...\n",
              "            249, 251, 254, 255, 258, 260, 261, 262, 263, 265],\n",
              "           dtype='int64', length=119)"
            ]
          },
          "metadata": {
            "tags": []
          },
          "execution_count": 930
        }
      ]
    },
    {
      "cell_type": "markdown",
      "metadata": {
        "id": "vEjVnDjL7I0i",
        "colab_type": "text"
      },
      "source": [
        "**Check what cluster "
      ]
    },
    {
      "cell_type": "code",
      "metadata": {
        "id": "zcWTyuDJ5kwo",
        "colab_type": "code",
        "outputId": "687fd956-0979-4756-9dda-f770f6580d22",
        "colab": {
          "base_uri": "https://localhost:8080/",
          "height": 34
        }
      },
      "source": [
        "df['cluster'][91]"
      ],
      "execution_count": 0,
      "outputs": [
        {
          "output_type": "execute_result",
          "data": {
            "text/plain": [
              "0"
            ]
          },
          "metadata": {
            "tags": []
          },
          "execution_count": 931
        }
      ]
    },
    {
      "cell_type": "code",
      "metadata": {
        "id": "GGiBmL8k6LVq",
        "colab_type": "code",
        "outputId": "62b16e60-03d4-46ec-9cb7-c6ffd0e7612e",
        "colab": {
          "base_uri": "https://localhost:8080/",
          "height": 34
        }
      },
      "source": [
        "pd.Series(result)[242]"
      ],
      "execution_count": 0,
      "outputs": [
        {
          "output_type": "execute_result",
          "data": {
            "text/plain": [
              "0"
            ]
          },
          "metadata": {
            "tags": []
          },
          "execution_count": 932
        }
      ]
    },
    {
      "cell_type": "markdown",
      "metadata": {
        "id": "PFyFQp4goXd0",
        "colab_type": "text"
      },
      "source": [
        "#Try Supervised"
      ]
    },
    {
      "cell_type": "code",
      "metadata": {
        "id": "kuUnw5xJz-VF",
        "colab_type": "code",
        "outputId": "ce76da1f-fbf2-4999-9541-f1b6398ac084",
        "colab": {
          "base_uri": "https://localhost:8080/",
          "height": 238
        }
      },
      "source": [
        "result.values"
      ],
      "execution_count": 0,
      "outputs": [
        {
          "output_type": "execute_result",
          "data": {
            "text/plain": [
              "array([0, 1, 0, 0, 1, 1, 0, 1, 1, 0, 0, 0, 0, 1, 1, 1, 1, 0, 0, 1, 1, 1,\n",
              "       1, 1, 0, 0, 0, 1, 0, 0, 0, 0, 0, 0, 0, 1, 0, 0, 0, 0, 1, 1, 1, 0,\n",
              "       0, 1, 1, 0, 0, 1, 0, 0, 0, 1, 0, 1, 1, 0, 1, 0, 1, 0, 0, 0, 0, 0,\n",
              "       0, 0, 0, 0, 0, 1, 0, 0, 0, 0, 0, 0, 0, 0, 0, 0, 0, 0, 1, 1, 0, 0,\n",
              "       0, 0, 0, 1, 0, 0, 0, 0, 1, 0, 0, 1, 0, 1, 1, 1, 1, 0, 0, 0, 0, 0,\n",
              "       1, 0, 0, 0, 0, 1, 0, 1, 0, 0, 0, 0, 1, 0, 0, 1, 0, 1, 0, 0, 0, 0,\n",
              "       0, 0, 0, 1, 0, 0, 0, 1, 0, 0, 0, 0, 0, 0, 1, 0, 0, 0, 0, 1, 0, 1,\n",
              "       1, 0, 0, 0, 1, 0, 1, 0, 1, 1, 0, 0, 0, 0, 0, 0, 0, 0, 0, 0, 0, 1,\n",
              "       1, 1, 0, 1, 0, 0, 1, 1, 1, 0, 0, 0, 0, 0, 0, 1, 0, 0, 0, 0, 0, 0,\n",
              "       0, 0, 0, 0, 1, 0, 1, 0, 1, 0, 1, 1, 0, 1, 0, 0, 1, 0, 1, 1, 1, 1,\n",
              "       0, 1, 0, 0, 0, 0, 0, 0, 1, 1, 0, 1, 1, 0, 1, 1, 1, 0, 1, 0, 0, 1,\n",
              "       0, 0, 1, 1, 0, 0, 1, 0, 1, 1, 0, 0, 1, 1, 0, 0, 0, 1, 0, 1, 1, 1,\n",
              "       1, 1])"
            ]
          },
          "metadata": {
            "tags": []
          },
          "execution_count": 933
        }
      ]
    },
    {
      "cell_type": "code",
      "metadata": {
        "id": "qWrBRYamFMmj",
        "colab_type": "code",
        "outputId": "086eda02-422a-4f03-ece7-85cc5a1232d0",
        "colab": {
          "base_uri": "https://localhost:8080/",
          "height": 419
        }
      },
      "source": [
        "pd.DataFrame(df_scaled)"
      ],
      "execution_count": 0,
      "outputs": [
        {
          "output_type": "execute_result",
          "data": {
            "text/html": [
              "<div>\n",
              "<style scoped>\n",
              "    .dataframe tbody tr th:only-of-type {\n",
              "        vertical-align: middle;\n",
              "    }\n",
              "\n",
              "    .dataframe tbody tr th {\n",
              "        vertical-align: top;\n",
              "    }\n",
              "\n",
              "    .dataframe thead th {\n",
              "        text-align: right;\n",
              "    }\n",
              "</style>\n",
              "<table border=\"1\" class=\"dataframe\">\n",
              "  <thead>\n",
              "    <tr style=\"text-align: right;\">\n",
              "      <th></th>\n",
              "      <th>0</th>\n",
              "      <th>1</th>\n",
              "      <th>2</th>\n",
              "      <th>3</th>\n",
              "      <th>4</th>\n",
              "      <th>5</th>\n",
              "      <th>6</th>\n",
              "      <th>7</th>\n",
              "    </tr>\n",
              "  </thead>\n",
              "  <tbody>\n",
              "    <tr>\n",
              "      <th>0</th>\n",
              "      <td>0.589506</td>\n",
              "      <td>-0.842038</td>\n",
              "      <td>-1.119409</td>\n",
              "      <td>-0.325657</td>\n",
              "      <td>-0.500962</td>\n",
              "      <td>0.919802</td>\n",
              "      <td>-0.131812</td>\n",
              "      <td>5.681415e-01</td>\n",
              "    </tr>\n",
              "    <tr>\n",
              "      <th>1</th>\n",
              "      <td>-1.010582</td>\n",
              "      <td>-1.254127</td>\n",
              "      <td>0.789327</td>\n",
              "      <td>0.393418</td>\n",
              "      <td>1.022101</td>\n",
              "      <td>-1.237033</td>\n",
              "      <td>-0.131812</td>\n",
              "      <td>6.799452e-17</td>\n",
              "    </tr>\n",
              "    <tr>\n",
              "      <th>2</th>\n",
              "      <td>-1.010582</td>\n",
              "      <td>-1.026820</td>\n",
              "      <td>0.789327</td>\n",
              "      <td>0.054232</td>\n",
              "      <td>-0.500962</td>\n",
              "      <td>-1.086366</td>\n",
              "      <td>1.335315</td>\n",
              "      <td>6.799452e-17</td>\n",
              "    </tr>\n",
              "    <tr>\n",
              "      <th>3</th>\n",
              "      <td>0.589506</td>\n",
              "      <td>-0.153535</td>\n",
              "      <td>-0.165041</td>\n",
              "      <td>-0.183199</td>\n",
              "      <td>-0.500962</td>\n",
              "      <td>-0.789945</td>\n",
              "      <td>1.335315</td>\n",
              "      <td>5.681415e-01</td>\n",
              "    </tr>\n",
              "    <tr>\n",
              "      <th>4</th>\n",
              "      <td>0.589506</td>\n",
              "      <td>1.190564</td>\n",
              "      <td>-0.165041</td>\n",
              "      <td>0.563012</td>\n",
              "      <td>2.905250</td>\n",
              "      <td>0.769135</td>\n",
              "      <td>1.335315</td>\n",
              "      <td>5.681415e-01</td>\n",
              "    </tr>\n",
              "    <tr>\n",
              "      <th>...</th>\n",
              "      <td>...</td>\n",
              "      <td>...</td>\n",
              "      <td>...</td>\n",
              "      <td>...</td>\n",
              "      <td>...</td>\n",
              "      <td>...</td>\n",
              "      <td>...</td>\n",
              "      <td>...</td>\n",
              "    </tr>\n",
              "    <tr>\n",
              "      <th>261</th>\n",
              "      <td>-1.010582</td>\n",
              "      <td>-0.595662</td>\n",
              "      <td>0.789327</td>\n",
              "      <td>-0.047524</td>\n",
              "      <td>0.988039</td>\n",
              "      <td>-0.816966</td>\n",
              "      <td>-0.131812</td>\n",
              "      <td>5.681415e-01</td>\n",
              "    </tr>\n",
              "    <tr>\n",
              "      <th>262</th>\n",
              "      <td>-1.010582</td>\n",
              "      <td>-0.595662</td>\n",
              "      <td>0.789327</td>\n",
              "      <td>-0.050916</td>\n",
              "      <td>0.988039</td>\n",
              "      <td>-0.834162</td>\n",
              "      <td>-0.131812</td>\n",
              "      <td>5.681415e-01</td>\n",
              "    </tr>\n",
              "    <tr>\n",
              "      <th>263</th>\n",
              "      <td>-1.010582</td>\n",
              "      <td>-1.026820</td>\n",
              "      <td>0.789327</td>\n",
              "      <td>-0.006822</td>\n",
              "      <td>-0.500962</td>\n",
              "      <td>-0.342856</td>\n",
              "      <td>-0.131812</td>\n",
              "      <td>-1.760125e+00</td>\n",
              "    </tr>\n",
              "    <tr>\n",
              "      <th>264</th>\n",
              "      <td>0.589506</td>\n",
              "      <td>1.190564</td>\n",
              "      <td>-1.119409</td>\n",
              "      <td>0.101718</td>\n",
              "      <td>-0.500962</td>\n",
              "      <td>0.625837</td>\n",
              "      <td>-0.131812</td>\n",
              "      <td>5.681415e-01</td>\n",
              "    </tr>\n",
              "    <tr>\n",
              "      <th>265</th>\n",
              "      <td>-1.010582</td>\n",
              "      <td>0.429161</td>\n",
              "      <td>0.789327</td>\n",
              "      <td>0.569795</td>\n",
              "      <td>-0.500962</td>\n",
              "      <td>-0.554936</td>\n",
              "      <td>-0.131812</td>\n",
              "      <td>5.681415e-01</td>\n",
              "    </tr>\n",
              "  </tbody>\n",
              "</table>\n",
              "<p>266 rows × 8 columns</p>\n",
              "</div>"
            ],
            "text/plain": [
              "            0         1         2  ...         5         6             7\n",
              "0    0.589506 -0.842038 -1.119409  ...  0.919802 -0.131812  5.681415e-01\n",
              "1   -1.010582 -1.254127  0.789327  ... -1.237033 -0.131812  6.799452e-17\n",
              "2   -1.010582 -1.026820  0.789327  ... -1.086366  1.335315  6.799452e-17\n",
              "3    0.589506 -0.153535 -0.165041  ... -0.789945  1.335315  5.681415e-01\n",
              "4    0.589506  1.190564 -0.165041  ...  0.769135  1.335315  5.681415e-01\n",
              "..        ...       ...       ...  ...       ...       ...           ...\n",
              "261 -1.010582 -0.595662  0.789327  ... -0.816966 -0.131812  5.681415e-01\n",
              "262 -1.010582 -0.595662  0.789327  ... -0.834162 -0.131812  5.681415e-01\n",
              "263 -1.010582 -1.026820  0.789327  ... -0.342856 -0.131812 -1.760125e+00\n",
              "264  0.589506  1.190564 -1.119409  ...  0.625837 -0.131812  5.681415e-01\n",
              "265 -1.010582  0.429161  0.789327  ... -0.554936 -0.131812  5.681415e-01\n",
              "\n",
              "[266 rows x 8 columns]"
            ]
          },
          "metadata": {
            "tags": []
          },
          "execution_count": 934
        }
      ]
    },
    {
      "cell_type": "code",
      "metadata": {
        "id": "8bkqVSdaSxKi",
        "colab_type": "code",
        "outputId": "ded205f5-8d99-4311-eea9-ed5c6877ede7",
        "colab": {
          "base_uri": "https://localhost:8080/",
          "height": 54
        }
      },
      "source": [
        "'''\n",
        "df_superv = pd.DataFrame(df_scaled).copy()\n",
        "df_superv[\"Result\"] = pd.Series(result)\n",
        "df_superv['Result'] = df_superv['Result'].astype(pd.CategoricalDtype(ordered=False))\n",
        "df_superv.reset_index(inplace=True)\n",
        "df_superv.drop(columns='index', inplace=True)\n",
        "df_superv.head()\n",
        "'''"
      ],
      "execution_count": 0,
      "outputs": [
        {
          "output_type": "execute_result",
          "data": {
            "text/plain": [
              "'\\ndf_superv = pd.DataFrame(df_scaled).copy()\\ndf_superv[\"Result\"] = pd.Series(result)\\ndf_superv[\\'Result\\'] = df_superv[\\'Result\\'].astype(pd.CategoricalDtype(ordered=False))\\ndf_superv.reset_index(inplace=True)\\ndf_superv.drop(columns=\\'index\\', inplace=True)\\ndf_superv.head()\\n'"
            ]
          },
          "metadata": {
            "tags": []
          },
          "execution_count": 935
        }
      ]
    },
    {
      "cell_type": "code",
      "metadata": {
        "id": "mESYorPlobs0",
        "colab_type": "code",
        "colab": {}
      },
      "source": [
        "from sklearn.model_selection import train_test_split\n",
        "X_train, X_validate, y_train, y_validate = train_test_split(df_superv.iloc[:,:-1], df_superv['Result'], random_state=1)"
      ],
      "execution_count": 0,
      "outputs": []
    },
    {
      "cell_type": "code",
      "metadata": {
        "id": "7_nqWrP3wPD4",
        "colab_type": "code",
        "colab": {}
      },
      "source": [
        "def riX(X):\n",
        "  X.reset_index(inplace=True)\n",
        "  X.drop(columns=\"index\", inplace=True)\n",
        "riX(X_train)\n",
        "riX(X_validate)"
      ],
      "execution_count": 0,
      "outputs": []
    },
    {
      "cell_type": "code",
      "metadata": {
        "id": "k4BQua1dE8iL",
        "colab_type": "code",
        "colab": {}
      },
      "source": [
        "y_train = y_train.reset_index()\n",
        "y_train = y_train[\"Result\"]\n",
        "\n",
        "y_validate = y_validate.reset_index()\n",
        "y_validate = y_validate[\"Result\"]"
      ],
      "execution_count": 0,
      "outputs": []
    },
    {
      "cell_type": "code",
      "metadata": {
        "id": "x9-hGiWLUywn",
        "colab_type": "code",
        "outputId": "2c3fcedf-bc62-446e-a27a-82037a0d326f",
        "colab": {
          "base_uri": "https://localhost:8080/",
          "height": 204
        }
      },
      "source": [
        "X_validate.head()"
      ],
      "execution_count": 0,
      "outputs": [
        {
          "output_type": "execute_result",
          "data": {
            "text/html": [
              "<div>\n",
              "<style scoped>\n",
              "    .dataframe tbody tr th:only-of-type {\n",
              "        vertical-align: middle;\n",
              "    }\n",
              "\n",
              "    .dataframe tbody tr th {\n",
              "        vertical-align: top;\n",
              "    }\n",
              "\n",
              "    .dataframe thead th {\n",
              "        text-align: right;\n",
              "    }\n",
              "</style>\n",
              "<table border=\"1\" class=\"dataframe\">\n",
              "  <thead>\n",
              "    <tr style=\"text-align: right;\">\n",
              "      <th></th>\n",
              "      <th>DXC_Level</th>\n",
              "      <th>Time_In_Profile</th>\n",
              "      <th>Legacy_Level</th>\n",
              "      <th>Compa-Ratio</th>\n",
              "      <th>LPI_Date</th>\n",
              "      <th>LOS_Years</th>\n",
              "      <th>C_R</th>\n",
              "      <th>P_R</th>\n",
              "    </tr>\n",
              "  </thead>\n",
              "  <tbody>\n",
              "    <tr>\n",
              "      <th>0</th>\n",
              "      <td>3</td>\n",
              "      <td>1.788356</td>\n",
              "      <td>18</td>\n",
              "      <td>0.000</td>\n",
              "      <td>58320000000000000</td>\n",
              "      <td>2.868493</td>\n",
              "      <td>3.0</td>\n",
              "      <td>NaN</td>\n",
              "    </tr>\n",
              "    <tr>\n",
              "      <th>1</th>\n",
              "      <td>4</td>\n",
              "      <td>3.323973</td>\n",
              "      <td>16</td>\n",
              "      <td>0.874</td>\n",
              "      <td>84758400000000000</td>\n",
              "      <td>9.153425</td>\n",
              "      <td>2.0</td>\n",
              "      <td>1.0</td>\n",
              "    </tr>\n",
              "    <tr>\n",
              "      <th>2</th>\n",
              "      <td>4</td>\n",
              "      <td>3.157306</td>\n",
              "      <td>16</td>\n",
              "      <td>0.750</td>\n",
              "      <td>58320000000000000</td>\n",
              "      <td>9.172603</td>\n",
              "      <td>2.0</td>\n",
              "      <td>2.0</td>\n",
              "    </tr>\n",
              "    <tr>\n",
              "      <th>3</th>\n",
              "      <td>4</td>\n",
              "      <td>2.705023</td>\n",
              "      <td>17</td>\n",
              "      <td>1.050</td>\n",
              "      <td>58320000000000000</td>\n",
              "      <td>3.789041</td>\n",
              "      <td>2.0</td>\n",
              "      <td>2.0</td>\n",
              "    </tr>\n",
              "    <tr>\n",
              "      <th>4</th>\n",
              "      <td>5</td>\n",
              "      <td>2.907306</td>\n",
              "      <td>16</td>\n",
              "      <td>0.746</td>\n",
              "      <td>58320000000000000</td>\n",
              "      <td>13.147945</td>\n",
              "      <td>2.0</td>\n",
              "      <td>2.0</td>\n",
              "    </tr>\n",
              "  </tbody>\n",
              "</table>\n",
              "</div>"
            ],
            "text/plain": [
              "  DXC_Level  Time_In_Profile Legacy_Level  ...  LOS_Years  C_R  P_R\n",
              "0         3         1.788356           18  ...   2.868493  3.0  NaN\n",
              "1         4         3.323973           16  ...   9.153425  2.0  1.0\n",
              "2         4         3.157306           16  ...   9.172603  2.0  2.0\n",
              "3         4         2.705023           17  ...   3.789041  2.0  2.0\n",
              "4         5         2.907306           16  ...  13.147945  2.0  2.0\n",
              "\n",
              "[5 rows x 8 columns]"
            ]
          },
          "metadata": {
            "tags": []
          },
          "execution_count": 939
        }
      ]
    },
    {
      "cell_type": "code",
      "metadata": {
        "id": "irSN006-U1RN",
        "colab_type": "code",
        "outputId": "efe87c34-fa40-4196-a041-05c854999933",
        "colab": {
          "base_uri": "https://localhost:8080/",
          "height": 136
        }
      },
      "source": [
        "y_validate.head()"
      ],
      "execution_count": 0,
      "outputs": [
        {
          "output_type": "execute_result",
          "data": {
            "text/plain": [
              "0    0\n",
              "1    0\n",
              "2    1\n",
              "3    0\n",
              "4    0\n",
              "Name: Result, dtype: category\n",
              "Categories (2, int64): [0, 1]"
            ]
          },
          "metadata": {
            "tags": []
          },
          "execution_count": 940
        }
      ]
    },
    {
      "cell_type": "code",
      "metadata": {
        "id": "yAdmhC67Gp7y",
        "colab_type": "code",
        "colab": {}
      },
      "source": [
        "#back up regression dataframes\n",
        "X_train_bk, y_train_bk, X_validate_bk, y_validate_bk = X_train, y_train, X_validate, y_validate"
      ],
      "execution_count": 0,
      "outputs": []
    },
    {
      "cell_type": "markdown",
      "metadata": {
        "id": "ZARGPspSo3RK",
        "colab_type": "text"
      },
      "source": [
        "#Random forest Regression"
      ]
    },
    {
      "cell_type": "code",
      "metadata": {
        "id": "XDIUcwuduaid",
        "colab_type": "code",
        "outputId": "e3fd56a8-07a5-4eb6-fa33-81b219a3b988",
        "colab": {
          "base_uri": "https://localhost:8080/",
          "height": 374
        }
      },
      "source": [
        "from sklearn.ensemble import RandomForestRegressor\n",
        "from sklearn.preprocessing import label_binarize\n",
        "from sklearn import preprocessing\n",
        "lb = preprocessing.LabelBinarizer()\n",
        "\n",
        "y_train = lb.fit_transform(y_train)\n",
        "# Define the model. Set random_state to 1\n",
        "rf_model = RandomForestRegressor(n_estimators=150,random_state=1)\n",
        "rf_model.fit(X_train, y_train)\n",
        "rf_val_predictions = rf_model.predict(X_validate)\n",
        "#rf_val_mae = mean_absolute_error(rf_val_predictions, y_validate)\n",
        "rf_val_predictions = lb.inverse_transform(rf_val_predictions)"
      ],
      "execution_count": 0,
      "outputs": [
        {
          "output_type": "error",
          "ename": "ValueError",
          "evalue": "ignored",
          "traceback": [
            "\u001b[0;31m---------------------------------------------------------------------------\u001b[0m",
            "\u001b[0;31mValueError\u001b[0m                                Traceback (most recent call last)",
            "\u001b[0;32m<ipython-input-942-4b3ae94d33b2>\u001b[0m in \u001b[0;36m<module>\u001b[0;34m()\u001b[0m\n\u001b[1;32m      7\u001b[0m \u001b[0;31m# Define the model. Set random_state to 1\u001b[0m\u001b[0;34m\u001b[0m\u001b[0;34m\u001b[0m\u001b[0;34m\u001b[0m\u001b[0m\n\u001b[1;32m      8\u001b[0m \u001b[0mrf_model\u001b[0m \u001b[0;34m=\u001b[0m \u001b[0mRandomForestRegressor\u001b[0m\u001b[0;34m(\u001b[0m\u001b[0mn_estimators\u001b[0m\u001b[0;34m=\u001b[0m\u001b[0;36m150\u001b[0m\u001b[0;34m,\u001b[0m\u001b[0mrandom_state\u001b[0m\u001b[0;34m=\u001b[0m\u001b[0;36m1\u001b[0m\u001b[0;34m)\u001b[0m\u001b[0;34m\u001b[0m\u001b[0;34m\u001b[0m\u001b[0m\n\u001b[0;32m----> 9\u001b[0;31m \u001b[0mrf_model\u001b[0m\u001b[0;34m.\u001b[0m\u001b[0mfit\u001b[0m\u001b[0;34m(\u001b[0m\u001b[0mX_train\u001b[0m\u001b[0;34m,\u001b[0m \u001b[0my_train\u001b[0m\u001b[0;34m)\u001b[0m\u001b[0;34m\u001b[0m\u001b[0;34m\u001b[0m\u001b[0m\n\u001b[0m\u001b[1;32m     10\u001b[0m \u001b[0mrf_val_predictions\u001b[0m \u001b[0;34m=\u001b[0m \u001b[0mrf_model\u001b[0m\u001b[0;34m.\u001b[0m\u001b[0mpredict\u001b[0m\u001b[0;34m(\u001b[0m\u001b[0mX_validate\u001b[0m\u001b[0;34m)\u001b[0m\u001b[0;34m\u001b[0m\u001b[0;34m\u001b[0m\u001b[0m\n\u001b[1;32m     11\u001b[0m \u001b[0;31m#rf_val_mae = mean_absolute_error(rf_val_predictions, y_validate)\u001b[0m\u001b[0;34m\u001b[0m\u001b[0;34m\u001b[0m\u001b[0;34m\u001b[0m\u001b[0m\n",
            "\u001b[0;32m/usr/local/lib/python3.6/dist-packages/sklearn/ensemble/forest.py\u001b[0m in \u001b[0;36mfit\u001b[0;34m(self, X, y, sample_weight)\u001b[0m\n\u001b[1;32m    247\u001b[0m \u001b[0;34m\u001b[0m\u001b[0m\n\u001b[1;32m    248\u001b[0m         \u001b[0;31m# Validate or convert input data\u001b[0m\u001b[0;34m\u001b[0m\u001b[0;34m\u001b[0m\u001b[0;34m\u001b[0m\u001b[0m\n\u001b[0;32m--> 249\u001b[0;31m         \u001b[0mX\u001b[0m \u001b[0;34m=\u001b[0m \u001b[0mcheck_array\u001b[0m\u001b[0;34m(\u001b[0m\u001b[0mX\u001b[0m\u001b[0;34m,\u001b[0m \u001b[0maccept_sparse\u001b[0m\u001b[0;34m=\u001b[0m\u001b[0;34m\"csc\"\u001b[0m\u001b[0;34m,\u001b[0m \u001b[0mdtype\u001b[0m\u001b[0;34m=\u001b[0m\u001b[0mDTYPE\u001b[0m\u001b[0;34m)\u001b[0m\u001b[0;34m\u001b[0m\u001b[0;34m\u001b[0m\u001b[0m\n\u001b[0m\u001b[1;32m    250\u001b[0m         \u001b[0my\u001b[0m \u001b[0;34m=\u001b[0m \u001b[0mcheck_array\u001b[0m\u001b[0;34m(\u001b[0m\u001b[0my\u001b[0m\u001b[0;34m,\u001b[0m \u001b[0maccept_sparse\u001b[0m\u001b[0;34m=\u001b[0m\u001b[0;34m'csc'\u001b[0m\u001b[0;34m,\u001b[0m \u001b[0mensure_2d\u001b[0m\u001b[0;34m=\u001b[0m\u001b[0;32mFalse\u001b[0m\u001b[0;34m,\u001b[0m \u001b[0mdtype\u001b[0m\u001b[0;34m=\u001b[0m\u001b[0;32mNone\u001b[0m\u001b[0;34m)\u001b[0m\u001b[0;34m\u001b[0m\u001b[0;34m\u001b[0m\u001b[0m\n\u001b[1;32m    251\u001b[0m         \u001b[0;32mif\u001b[0m \u001b[0msample_weight\u001b[0m \u001b[0;32mis\u001b[0m \u001b[0;32mnot\u001b[0m \u001b[0;32mNone\u001b[0m\u001b[0;34m:\u001b[0m\u001b[0;34m\u001b[0m\u001b[0;34m\u001b[0m\u001b[0m\n",
            "\u001b[0;32m/usr/local/lib/python3.6/dist-packages/sklearn/utils/validation.py\u001b[0m in \u001b[0;36mcheck_array\u001b[0;34m(array, accept_sparse, accept_large_sparse, dtype, order, copy, force_all_finite, ensure_2d, allow_nd, ensure_min_samples, ensure_min_features, warn_on_dtype, estimator)\u001b[0m\n\u001b[1;32m    540\u001b[0m         \u001b[0;32mif\u001b[0m \u001b[0mforce_all_finite\u001b[0m\u001b[0;34m:\u001b[0m\u001b[0;34m\u001b[0m\u001b[0;34m\u001b[0m\u001b[0m\n\u001b[1;32m    541\u001b[0m             _assert_all_finite(array,\n\u001b[0;32m--> 542\u001b[0;31m                                allow_nan=force_all_finite == 'allow-nan')\n\u001b[0m\u001b[1;32m    543\u001b[0m \u001b[0;34m\u001b[0m\u001b[0m\n\u001b[1;32m    544\u001b[0m     \u001b[0;32mif\u001b[0m \u001b[0mensure_min_samples\u001b[0m \u001b[0;34m>\u001b[0m \u001b[0;36m0\u001b[0m\u001b[0;34m:\u001b[0m\u001b[0;34m\u001b[0m\u001b[0;34m\u001b[0m\u001b[0m\n",
            "\u001b[0;32m/usr/local/lib/python3.6/dist-packages/sklearn/utils/validation.py\u001b[0m in \u001b[0;36m_assert_all_finite\u001b[0;34m(X, allow_nan)\u001b[0m\n\u001b[1;32m     54\u001b[0m                 not allow_nan and not np.isfinite(X).all()):\n\u001b[1;32m     55\u001b[0m             \u001b[0mtype_err\u001b[0m \u001b[0;34m=\u001b[0m \u001b[0;34m'infinity'\u001b[0m \u001b[0;32mif\u001b[0m \u001b[0mallow_nan\u001b[0m \u001b[0;32melse\u001b[0m \u001b[0;34m'NaN, infinity'\u001b[0m\u001b[0;34m\u001b[0m\u001b[0;34m\u001b[0m\u001b[0m\n\u001b[0;32m---> 56\u001b[0;31m             \u001b[0;32mraise\u001b[0m \u001b[0mValueError\u001b[0m\u001b[0;34m(\u001b[0m\u001b[0mmsg_err\u001b[0m\u001b[0;34m.\u001b[0m\u001b[0mformat\u001b[0m\u001b[0;34m(\u001b[0m\u001b[0mtype_err\u001b[0m\u001b[0;34m,\u001b[0m \u001b[0mX\u001b[0m\u001b[0;34m.\u001b[0m\u001b[0mdtype\u001b[0m\u001b[0;34m)\u001b[0m\u001b[0;34m)\u001b[0m\u001b[0;34m\u001b[0m\u001b[0;34m\u001b[0m\u001b[0m\n\u001b[0m\u001b[1;32m     57\u001b[0m     \u001b[0;31m# for object dtype data, we only check for NaNs (GH-13254)\u001b[0m\u001b[0;34m\u001b[0m\u001b[0;34m\u001b[0m\u001b[0;34m\u001b[0m\u001b[0m\n\u001b[1;32m     58\u001b[0m     \u001b[0;32melif\u001b[0m \u001b[0mX\u001b[0m\u001b[0;34m.\u001b[0m\u001b[0mdtype\u001b[0m \u001b[0;34m==\u001b[0m \u001b[0mnp\u001b[0m\u001b[0;34m.\u001b[0m\u001b[0mdtype\u001b[0m\u001b[0;34m(\u001b[0m\u001b[0;34m'object'\u001b[0m\u001b[0;34m)\u001b[0m \u001b[0;32mand\u001b[0m \u001b[0;32mnot\u001b[0m \u001b[0mallow_nan\u001b[0m\u001b[0;34m:\u001b[0m\u001b[0;34m\u001b[0m\u001b[0;34m\u001b[0m\u001b[0m\n",
            "\u001b[0;31mValueError\u001b[0m: Input contains NaN, infinity or a value too large for dtype('float32')."
          ]
        }
      ]
    },
    {
      "cell_type": "code",
      "metadata": {
        "id": "Ku9qauyg0qV6",
        "colab_type": "code",
        "colab": {}
      },
      "source": [
        "rf_pred = pd.Series(rf_val_predictions)\n",
        "preddf = pd.DataFrame()\n",
        "preddf['Actuals'] = y_validate\n",
        "preddf['Predictions'] = rf_pred\n",
        "preddf.head(15)"
      ],
      "execution_count": 0,
      "outputs": []
    },
    {
      "cell_type": "markdown",
      "metadata": {
        "id": "sjQkXXV_Gtrf",
        "colab_type": "text"
      },
      "source": [
        "**Accuracy Score by Random Forest Regression**"
      ]
    },
    {
      "cell_type": "code",
      "metadata": {
        "id": "gEfWa1YV0qGm",
        "colab_type": "code",
        "colab": {}
      },
      "source": [
        "from sklearn.metrics import accuracy_score\n",
        "accuracy_score(preddf['Actuals'], preddf['Predictions'])"
      ],
      "execution_count": 0,
      "outputs": []
    },
    {
      "cell_type": "markdown",
      "metadata": {
        "id": "i4yO262dAS10",
        "colab_type": "text"
      },
      "source": [
        "#Logistic Regression"
      ]
    },
    {
      "cell_type": "code",
      "metadata": {
        "id": "4a7Y7wKvAw6g",
        "colab_type": "code",
        "colab": {}
      },
      "source": [
        "#restore original dfs\n",
        "X_train, y_train, X_validate, y_validate = X_train_bk, y_train_bk, X_validate_bk, y_validate_bk"
      ],
      "execution_count": 0,
      "outputs": []
    },
    {
      "cell_type": "code",
      "metadata": {
        "id": "5EHBTmovAWD1",
        "colab_type": "code",
        "colab": {}
      },
      "source": [
        "from sklearn.linear_model import LogisticRegression\n",
        "clf = LogisticRegression(random_state=0).fit(X_train, y_train)\n",
        "clf_predictions = clf.predict(X_validate)"
      ],
      "execution_count": 0,
      "outputs": []
    },
    {
      "cell_type": "code",
      "metadata": {
        "id": "1xSPq_9LA8Am",
        "colab_type": "code",
        "colab": {}
      },
      "source": [
        "clf_pred = pd.Series(clf_predictions)\n",
        "preddfl = pd.DataFrame()\n",
        "preddfl['Actuals'] = y_validate\n",
        "preddfl['Predictions'] = clf_pred\n",
        "preddfl.head(64)"
      ],
      "execution_count": 0,
      "outputs": []
    },
    {
      "cell_type": "markdown",
      "metadata": {
        "id": "IT67-k-PG0ih",
        "colab_type": "text"
      },
      "source": [
        "**Accuracy Score by Logistic Regression**"
      ]
    },
    {
      "cell_type": "code",
      "metadata": {
        "id": "x_29lBLPEN3W",
        "colab_type": "code",
        "colab": {}
      },
      "source": [
        "accuracy_score(preddfl['Actuals'], preddfl['Predictions'])"
      ],
      "execution_count": 0,
      "outputs": []
    }
  ]
}